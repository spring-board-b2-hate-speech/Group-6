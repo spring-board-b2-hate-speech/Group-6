{
  "nbformat": 4,
  "nbformat_minor": 0,
  "metadata": {
    "colab": {
      "provenance": []
    },
    "kernelspec": {
      "name": "python3",
      "display_name": "Python 3"
    },
    "language_info": {
      "name": "python"
    }
  },
  "cells": [
    {
      "cell_type": "markdown",
      "source": [
        "### Hate Speech Detection on **Snapchat**"
      ],
      "metadata": {
        "id": "KTHyEfx2yrr9"
      }
    },
    {
      "cell_type": "markdown",
      "source": [
        "**1. Problem Statement**\n",
        "\n",
        "The goal of this project is to detect hate speech in text data. Hate speech is defined as any communication that belittles a person or a group based on some characteristic such as race, color, ethnicity, gender, sexual orientation, nationality, religion, or other characteristics.\n",
        "\n",
        "\n",
        "\n",
        "--Develop a model to detect hate speech in Snapchat messages."
      ],
      "metadata": {
        "id": "fpogFXydj8ar"
      }
    },
    {
      "cell_type": "markdown",
      "source": [
        "**2. Solution Description**\n",
        "\n",
        "\n",
        "\n",
        "Steps Involved:\n",
        "\n",
        "**Data Collection:**\n",
        "\n",
        "Collect text data from Snapchat including both hate speech and non-hate speech content.\n",
        "\n",
        "**Data Preprocessing:**\n",
        "\n",
        "-Clean the data:\n",
        "\n",
        "-Remove special characters and numbers\n",
        "\n",
        "-Convert text to lowercase\n",
        "\n",
        "-Remove stop words\n",
        "\n",
        "**Feature Extraction:**\n",
        "\n",
        "Convert text data into numerical features using TF-IDF (Term Frequency-Inverse Document Frequency).\n",
        "\n",
        "**Model Development**\n",
        "\n",
        "Develop a deep learning model (CNN) to detect hate speech.\n",
        "\n",
        "**Model Training**\n",
        "\n",
        "Train and fine-tune the CNN model using the processed data."
      ],
      "metadata": {
        "id": "-Mbw-SpNkA1b"
      }
    },
    {
      "cell_type": "markdown",
      "source": [
        "**3. Dataset Description**\n",
        "The dataset contains text data along with labels indicating whether the text is hate speech or not. The dataset format includes:\n",
        "\n",
        "Overview:\n",
        "\n",
        "Contains user comments collected from different platforms, with labels indicating whether the comment is hateful or not.\n",
        "\n",
        "Consists of three columns.\n",
        "\n",
        "-Platform: The platform from which the comment was collected.\n",
        "\n",
        "-Comment: The text of the user comment.\n",
        "\n",
        "-Hateful: Label indicating whether the\n",
        "comment is hateful (1) or not (0)."
      ],
      "metadata": {
        "id": "-r_qXRYCkGNw"
      }
    },
    {
      "cell_type": "code",
      "source": [
        "import pandas as pd\n",
        "import numpy as np\n",
        "from tensorflow.keras.preprocessing.text import Tokenizer\n",
        "from tensorflow.keras.preprocessing.sequence import pad_sequences\n",
        "from tensorflow.keras.models import Sequential\n",
        "from tensorflow.keras.layers import Embedding, Conv1D, MaxPooling1D, Dense, Dropout, Flatten\n",
        "from tensorflow.keras.optimizers import Adam\n",
        "from tensorflow.keras.callbacks import EarlyStopping\n",
        "from tensorflow.keras.regularizers import l2\n",
        "from sklearn.model_selection import train_test_split\n",
        "from sklearn.metrics import classification_report\n",
        "from imblearn.over_sampling import RandomOverSampler\n",
        "import nltk\n",
        "from nltk.corpus import stopwords\n",
        "import string\n",
        "from sklearn.metrics import confusion_matrix, classification_report\n",
        "import seaborn as sns\n",
        "import matplotlib.pyplot as plt"
      ],
      "metadata": {
        "id": "ZIR7pffRn-nK"
      },
      "execution_count": 3,
      "outputs": []
    },
    {
      "cell_type": "markdown",
      "source": [
        "**4. Data Visualization**\n",
        "a. Train, Test, and Validation Data Size"
      ],
      "metadata": {
        "id": "YmAMgspnk2Bj"
      }
    },
    {
      "cell_type": "code",
      "source": [
        "# Download Stopwords\n",
        "nltk.download('stopwords')\n",
        "#Load the Dataset\n",
        "file_path = '/content/HateSpeechDetection (1).csv'\n",
        "df = pd.read_csv(file_path)\n",
        "\n",
        "\n",
        "# Data Preprocessing function\n",
        "def preprocess_text(text):\n",
        "    text = text.lower()\n",
        "    text = text.translate(str.maketrans('', '', string.punctuation))\n",
        "    stop_words = set(stopwords.words('english'))\n",
        "    text = ' '.join([word for word in text.split() if word not in stop_words])\n",
        "    return text\n",
        "\n",
        "\n",
        "# Apply the preprocessing function to the comments\n",
        "df['Comment'] = df['Comment'].apply(preprocess_text)\n",
        "print(\"Data preprocessing completed.\")\n",
        "print(df.head())\n",
        "X = df['Comment']\n",
        "y = df['Hateful']\n",
        "\n",
        "tokenizer = Tokenizer()\n",
        "tokenizer.fit_on_texts(X)\n",
        "X_tokenized = tokenizer.texts_to_sequences(X)\n",
        "\n",
        "max_length = 100\n",
        "X_padded = pad_sequences(X_tokenized, maxlen=max_length, padding='post')\n",
        "print(\"Tokenization and padding completed.\")\n",
        "#print(X_padded[:5])\n",
        "\n",
        "desired_samples_per_class = 5000\n",
        "sampling_strategy = {0: desired_samples_per_class, 1: desired_samples_per_class}\n",
        "\n",
        "ros = RandomOverSampler(sampling_strategy=sampling_strategy, random_state=42)\n",
        "X_resampled, y_resampled = ros.fit_resample(X_padded, y)\n",
        "#print(\"Dataset balanced using RandomOverSampler.\")\n",
        "#print(\"Class distribution after resampling:\")\n",
        "#print(pd.Series(y_resampled).value_counts())\n",
        "\n",
        "X_train, X_test, y_train, y_test = train_test_split(X_resampled, y_resampled, test_size=0.2, random_state=42)\n",
        "print(\"Data split into training and testing sets.\")\n",
        "print(f\"Training set size: {len(X_train)}, Testing set size: {len(X_test)}\")\n",
        "\n"
      ],
      "metadata": {
        "colab": {
          "base_uri": "https://localhost:8080/"
        },
        "id": "eK62oqQhlAUp",
        "outputId": "1a395162-2772-465a-8614-43cb63ae0f08"
      },
      "execution_count": 7,
      "outputs": [
        {
          "output_type": "stream",
          "name": "stderr",
          "text": [
            "[nltk_data] Downloading package stopwords to /root/nltk_data...\n",
            "[nltk_data]   Package stopwords is already up-to-date!\n"
          ]
        },
        {
          "output_type": "stream",
          "name": "stdout",
          "text": [
            "Data preprocessing completed.\n",
            "  Platform                                           Comment  Hateful\n",
            "0   Reddit              damn thought strict gun laws germany        0\n",
            "1   Reddit  dont care stands anything connected like shields        0\n",
            "2   Reddit                                    group idea lol        0\n",
            "3   Reddit                                           america        0\n",
            "4   Reddit  dog spectacular dancer considering two left feet        0\n",
            "Tokenization and padding completed.\n",
            "Data split into training and testing sets.\n",
            "Training set size: 8000, Testing set size: 2000\n"
          ]
        },
        {
          "output_type": "stream",
          "name": "stderr",
          "text": [
            "/usr/local/lib/python3.10/dist-packages/imblearn/utils/_validation.py:313: UserWarning: After over-sampling, the number of samples (5000) in class 0 will be larger than the number of samples in the majority class (class #0 -> 2400)\n",
            "  warnings.warn(\n",
            "/usr/local/lib/python3.10/dist-packages/imblearn/utils/_validation.py:313: UserWarning: After over-sampling, the number of samples (5000) in class 1 will be larger than the number of samples in the majority class (class #0 -> 2400)\n",
            "  warnings.warn(\n"
          ]
        }
      ]
    },
    {
      "cell_type": "markdown",
      "source": [
        "b. Label-wise Split in Train Data:"
      ],
      "metadata": {
        "id": "xVdaRszYktre"
      }
    },
    {
      "cell_type": "code",
      "source": [
        "import matplotlib.pyplot as plt\n",
        "\n",
        "# Plot the label distribution in the training set\n",
        "pd.Series(y_train).value_counts().plot(kind='bar')\n",
        "plt.title('Label Distribution in Training Data')\n",
        "plt.xlabel('Label')\n",
        "plt.ylabel('Count')\n",
        "plt.show()"
      ],
      "metadata": {
        "colab": {
          "base_uri": "https://localhost:8080/",
          "height": 467
        },
        "id": "gCHSvktzlHbc",
        "outputId": "6e5d3716-cdf3-41bb-ace6-043711761e71"
      },
      "execution_count": 9,
      "outputs": [
        {
          "output_type": "display_data",
          "data": {
            "text/plain": [
              "<Figure size 640x480 with 1 Axes>"
            ],
            "image/png": "[encoded data removed]"
          },
          "metadata": {}
        }
      ]
    },
    {
      "cell_type": "markdown",
      "source": [
        "**5. Data Preprocessing Steps**"
      ],
      "metadata": {
        "id": "-h9BXv1Nm75g"
      }
    },
    {
      "cell_type": "code",
      "source": [
        "# Data Preprocessing\n",
        "def preprocess_text(text):\n",
        "    text = text.lower()\n",
        "    text = ''.join([char for char in text if char not in string.punctuation])\n",
        "    text = ' '.join([word for word in text.split() if word not in stop_words])\n",
        "    return text\n",
        "\n",
        "df['Comment'] = df['Comment'].apply(preprocess_text)\n",
        "print(\"Data preprocessing completed.\")\n",
        "\n",
        "X = df['Comment']\n",
        "y = df['Hateful']\n",
        "\n",
        "# Tokenization and Padding\n",
        "tokenizer = Tokenizer()\n",
        "tokenizer.fit_on_texts(X)\n",
        "X_tokenized = tokenizer.texts_to_sequences(X)\n",
        "\n",
        "max_length = 100\n",
        "X_padded = pad_sequences(X_tokenized, maxlen=max_length, padding='post')\n",
        "print(\"Tokenization and padding completed.\")\n",
        "\n",
        "# Resampling\n",
        "desired_samples_per_class = 5000\n",
        "sampling_strategy = {0: desired_samples_per_class, 1: desired_samples_per_class}\n",
        "\n",
        "ros = RandomOverSampler(sampling_strategy=sampling_strategy, random_state=42)\n",
        "X_resampled, y_resampled = ros.fit_resample(X_padded, y)\n",
        "print(\"Dataset balanced using RandomOverSampler.\")\n",
        "print(\"Class distribution after resampling:\")\n",
        "print(pd.Series(y_resampled).value_counts())\n",
        "\n",
        "# Splitting the data\n",
        "X_train, X_test, y_train, y_test = train_test_split(X_resampled, y_resampled, test_size=0.2, random_state=42)\n",
        "print(\"Data split into training and testing sets.\")\n",
        "print(f\"Training set size: {len(X_train)}, Testing set size: {len(X_test)}\")\n"
      ],
      "metadata": {
        "colab": {
          "base_uri": "https://localhost:8080/"
        },
        "id": "kI1kBtMHm-qt",
        "outputId": "19e4a6fd-4b38-4712-bfbd-10de658b0421"
      },
      "execution_count": 26,
      "outputs": [
        {
          "output_type": "stream",
          "name": "stdout",
          "text": [
            "Data preprocessing completed.\n",
            "Tokenization and padding completed.\n",
            "Dataset balanced using RandomOverSampler.\n",
            "Class distribution after resampling:\n",
            "Hateful\n",
            "0    5000\n",
            "1    5000\n",
            "Name: count, dtype: int64\n",
            "Data split into training and testing sets.\n",
            "Training set size: 8000, Testing set size: 2000\n"
          ]
        },
        {
          "output_type": "stream",
          "name": "stderr",
          "text": [
            "/usr/local/lib/python3.10/dist-packages/imblearn/utils/_validation.py:313: UserWarning: After over-sampling, the number of samples (5000) in class 0 will be larger than the number of samples in the majority class (class #0 -> 2400)\n",
            "  warnings.warn(\n",
            "/usr/local/lib/python3.10/dist-packages/imblearn/utils/_validation.py:313: UserWarning: After over-sampling, the number of samples (5000) in class 1 will be larger than the number of samples in the majority class (class #0 -> 2400)\n",
            "  warnings.warn(\n"
          ]
        }
      ]
    },
    {
      "cell_type": "markdown",
      "source": [
        "**6. Model Training and Evaluation**\n",
        "a. Train a CNN Model"
      ],
      "metadata": {
        "id": "nzmUvgo2lLM7"
      }
    },
    {
      "cell_type": "code",
      "source": [
        "\n",
        "embedding_dim = 64  # Embedding dimension\n",
        "cnn_model = Sequential()\n",
        "cnn_model.add(Embedding(input_dim=len(tokenizer.word_index) + 1, output_dim=embedding_dim, input_length=max_length))\n",
        "cnn_model.add(Conv1D(filters=16, kernel_size=5, activation='relu'))\n",
        "cnn_model.add(MaxPooling1D(pool_size=2))\n",
        "cnn_model.add(Flatten())\n",
        "cnn_model.add(Dense(64, activation='relu', kernel_regularizer=l2(0.01)))\n",
        "cnn_model.add(Dropout(0.8))\n",
        "cnn_model.add(Dense(1, activation='sigmoid'))\n",
        "print(\"Model defined successfully.\")\n",
        "cnn_model.summary()\n",
        "\n",
        "optimizer = Adam(learning_rate=0.0001)\n",
        "cnn_model.compile(loss='binary_crossentropy', optimizer=optimizer, metrics=['accuracy'])\n",
        "\n",
        "early_stopping = EarlyStopping(monitor='val_loss', patience=1, restore_best_weights=True)\n",
        "\n",
        "cnn_history = cnn_model.fit(X_train, y_train, epochs=5, batch_size=32, validation_split=0.2, verbose=1, callbacks=[early_stopping])\n",
        "print(\"Model training completed.\")\n"
      ],
      "metadata": {
        "colab": {
          "base_uri": "https://localhost:8080/"
        },
        "id": "VRSxxM6WlKzZ",
        "outputId": "bfb454ab-bff2-4ce8-c18e-43cfad743806"
      },
      "execution_count": 33,
      "outputs": [
        {
          "output_type": "stream",
          "name": "stdout",
          "text": [
            "Model defined successfully.\n",
            "Model: \"sequential_7\"\n",
            "_________________________________________________________________\n",
            " Layer (type)                Output Shape              Param #   \n",
            "=================================================================\n",
            " embedding_6 (Embedding)     (None, 100, 64)           396352    \n",
            "                                                                 \n",
            " conv1d_7 (Conv1D)           (None, 96, 16)            5136      \n",
            "                                                                 \n",
            " max_pooling1d_5 (MaxPoolin  (None, 48, 16)            0         \n",
            " g1D)                                                            \n",
            "                                                                 \n",
            " flatten_5 (Flatten)         (None, 768)               0         \n",
            "                                                                 \n",
            " dense_13 (Dense)            (None, 64)                49216     \n",
            "                                                                 \n",
            " dropout_5 (Dropout)         (None, 64)                0         \n",
            "                                                                 \n",
            " dense_14 (Dense)            (None, 1)                 65        \n",
            "                                                                 \n",
            "=================================================================\n",
            "Total params: 450769 (1.72 MB)\n",
            "Trainable params: 450769 (1.72 MB)\n",
            "Non-trainable params: 0 (0.00 Byte)\n",
            "_________________________________________________________________\n",
            "Epoch 1/5\n",
            "200/200 [==============================] - 5s 15ms/step - loss: 1.5663 - accuracy: 0.5219 - val_loss: 1.3013 - val_accuracy: 0.5806\n",
            "Epoch 2/5\n",
            "200/200 [==============================] - 3s 14ms/step - loss: 1.1310 - accuracy: 0.5448 - val_loss: 0.9916 - val_accuracy: 0.7113\n",
            "Epoch 3/5\n",
            "200/200 [==============================] - 4s 21ms/step - loss: 0.9007 - accuracy: 0.6325 - val_loss: 0.8251 - val_accuracy: 0.7775\n",
            "Epoch 4/5\n",
            "200/200 [==============================] - 3s 14ms/step - loss: 0.7638 - accuracy: 0.7423 - val_loss: 0.6980 - val_accuracy: 0.8819\n",
            "Epoch 5/5\n",
            "200/200 [==============================] - 3s 13ms/step - loss: 0.5861 - accuracy: 0.8770 - val_loss: 0.4344 - val_accuracy: 0.9688\n",
            "Model training completed.\n"
          ]
        }
      ]
    },
    {
      "cell_type": "markdown",
      "source": [
        "b. Evaluate the Model"
      ],
      "metadata": {
        "id": "LrbobQHInNor"
      }
    },
    {
      "cell_type": "code",
      "source": [
        "\n",
        "cnn_loss, cnn_accuracy = cnn_model.evaluate(X_test, y_test)\n",
        "print(f'Test Accuracy: {cnn_accuracy}')\n",
        "\n",
        "\n",
        "y_pred = (cnn_model.predict(X_test) > 0.5).astype(\"int32\")\n",
        "print(classification_report(y_test, y_pred))\n",
        "\n",
        "# Compute confusion matrix\n",
        "cm = confusion_matrix(y_test, y_pred)\n",
        "# Plot confusion matrix\n",
        "plt.figure(figsize=(8, 6))\n",
        "sns.heatmap(cm, annot=True, fmt='d', cmap='Blues', cbar=False,\n",
        "            xticklabels=['Non-Hateful', 'Hateful'], yticklabels=['Non-Hateful', 'Hateful'])\n",
        "plt.xlabel('Predicted Labels')\n",
        "plt.ylabel('True Labels')\n",
        "plt.title('Confusion Matrix')\n",
        "plt.show()"
      ],
      "metadata": {
        "colab": {
          "base_uri": "https://localhost:8080/",
          "height": 772
        },
        "id": "eKKYQ6rWnPM_",
        "outputId": "240d629d-6e56-45d1-c16d-347da4bd1abe"
      },
      "execution_count": 34,
      "outputs": [
        {
          "output_type": "stream",
          "name": "stdout",
          "text": [
            "63/63 [==============================] - 0s 4ms/step - loss: 0.4375 - accuracy: 0.9615\n",
            "Test Accuracy: 0.9614999890327454\n",
            "63/63 [==============================] - 0s 3ms/step\n",
            "              precision    recall  f1-score   support\n",
            "\n",
            "           0       0.95      0.98      0.96      1001\n",
            "           1       0.98      0.95      0.96       999\n",
            "\n",
            "    accuracy                           0.96      2000\n",
            "   macro avg       0.96      0.96      0.96      2000\n",
            "weighted avg       0.96      0.96      0.96      2000\n",
            "\n"
          ]
        },
        {
          "output_type": "display_data",
          "data": {
            "text/plain": [
              "<Figure size 800x600 with 1 Axes>"
            ],
            "image/png": "[encoded data removed]"
          },
          "metadata": {}
        }
      ]
    },
    {
      "cell_type": "markdown",
      "source": [
        "**7. Code to Predict Hate Speech on New Samples**"
      ],
      "metadata": {
        "id": "mwlEsqzXnUYX"
      }
    },
    {
      "cell_type": "code",
      "source": [
        "# Function to preprocess user input\n",
        "def preprocess_user_input(text):\n",
        "    text = text.lower()\n",
        "    text = text.translate(str.maketrans('', '', string.punctuation))\n",
        "    stop_words = set(stopwords.words('english'))\n",
        "    text = ' '.join([word for word in text.split() if word not in stop_words])\n",
        "    text_tokenized = tokenizer.texts_to_sequences([text])\n",
        "    text_padded = pad_sequences(text_tokenized, maxlen=max_length, padding='post')\n",
        "    return text_padded\n",
        "\n",
        "# Function to predict hate speech\n",
        "def predict_hate_speech(text):\n",
        "    processed_text = preprocess_user_input(text)\n",
        "    prediction = (cnn_model.predict(processed_text) > 0.5).astype(\"int32\")\n",
        "    return \"Hateful\" if prediction[0][0] == 1 else \"Non-Hateful\"\n",
        "\n",
        "# Sample inputs\n",
        "texts = [\n",
        "    \"I hope you have a great day!\",  # Non-hateful\n",
        "    \"Your presentation was really impressive!\",  # Non-hateful\n",
        "    \"Shut up, nobody cares about your stupid opinions!\",  # Hateful\n",
        "    \"You're a complete waste of space!\",  # Hateful\n",
        "]\n",
        "\n",
        "# Predict and print results\n",
        "for text in texts:\n",
        "    result = predict_hate_speech(text)\n",
        "    print(f\"Text: {text}\\nPrediction: {result}\\n\")"
      ],
      "metadata": {
        "colab": {
          "base_uri": "https://localhost:8080/"
        },
        "id": "DaGHFfBenWld",
        "outputId": "27af3d13-ad15-4d70-ef05-dff914bdc35e"
      },
      "execution_count": 35,
      "outputs": [
        {
          "output_type": "stream",
          "name": "stdout",
          "text": [
            "1/1 [==============================] - 0s 23ms/step\n",
            "Text: I hope you have a great day!\n",
            "Prediction: Non-Hateful\n",
            "\n",
            "1/1 [==============================] - 0s 27ms/step\n",
            "Text: Your presentation was really impressive!\n",
            "Prediction: Non-Hateful\n",
            "\n",
            "1/1 [==============================] - 0s 23ms/step\n",
            "Text: Shut up, nobody cares about your stupid opinions!\n",
            "Prediction: Hateful\n",
            "\n",
            "1/1 [==============================] - 0s 24ms/step\n",
            "Text: You're a complete waste of space!\n",
            "Prediction: Non-Hateful\n",
            "\n"
          ]
        }
      ]
    }
  ]
}