{
  "nbformat": 4,
  "nbformat_minor": 0,
  "metadata": {
    "colab": {
      "provenance": []
    },
    "kernelspec": {
      "name": "python3",
      "display_name": "Python 3"
    },
    "language_info": {
      "name": "python"
    }
  },
  "cells": [
    {
      "cell_type": "markdown",
      "source": [
        "HATE SPEECH DETECTION IN SNAPCHAT\n",
        "\n",
        "\n"
      ],
      "metadata": {
        "id": "IMI0zQprhn6U"
      }
    },
    {
      "cell_type": "code",
      "source": [
        "import pandas as pd\n",
        "import numpy as np\n",
        "import nltk\n",
        "\n",
        "import re\n",
        "import string\n",
        "\n",
        "from sklearn.feature_extraction.text import CountVectorizer\n",
        "from sklearn.model_selection import train_test_split\n",
        "from sklearn.tree import DecisionTreeClassifier\n",
        "\n",
        "from nltk.util import pr\n",
        "from nltk.corpus import stopwords"
      ],
      "metadata": {
        "id": "o8PIvT_mlJIc"
      },
      "execution_count": null,
      "outputs": []
    },
    {
      "cell_type": "markdown",
      "source": [
        "IMPORTING THE DATASET"
      ],
      "metadata": {
        "id": "d5A3ahZrm48X"
      }
    },
    {
      "cell_type": "code",
      "source": [
        "data=pd.read_csv(\"/content/HateSpeechDetection.csv\")\n",
        "print(data.head())"
      ],
      "metadata": {
        "colab": {
          "base_uri": "https://localhost:8080/"
        },
        "id": "drH6Ahd_nAeD",
        "outputId": "3c8ec0c5-1e20-4b88-e058-aabba7e69abc"
      },
      "execution_count": null,
      "outputs": [
        {
          "output_type": "stream",
          "name": "stdout",
          "text": [
            "  Platform                                            Comment  Hateful\n",
            "0   Reddit  Damn I thought they had strict gun laws in Ger...        0\n",
            "1   Reddit  I dont care about what it stands for or anythi...        0\n",
            "2   Reddit                  It's not a group it's an idea lol        0\n",
            "3   Reddit                          So it's not just America!        0\n",
            "4   Reddit  The dog is a spectacular dancer considering he...        0\n"
          ]
        }
      ]
    },
    {
      "cell_type": "code",
      "source": [
        "print(data.head(10))"
      ],
      "metadata": {
        "colab": {
          "base_uri": "https://localhost:8080/"
        },
        "id": "_79WLsfOol2k",
        "outputId": "70b83bf8-a611-4e87-974f-af2dd2c59da8"
      },
      "execution_count": null,
      "outputs": [
        {
          "output_type": "stream",
          "name": "stdout",
          "text": [
            "  Platform                                            Comment  Hateful\n",
            "0   Reddit  Damn I thought they had strict gun laws in Ger...        0\n",
            "1   Reddit  I dont care about what it stands for or anythi...        0\n",
            "2   Reddit                  It's not a group it's an idea lol        0\n",
            "3   Reddit                          So it's not just America!        0\n",
            "4   Reddit  The dog is a spectacular dancer considering he...        0\n",
            "5   Reddit  If ppl dont wear masks you complain... If ppl ...        0\n",
            "6   Reddit            We should send them All back  to africa        1\n",
            "7   Reddit  Checking to see if it's whataboutism from the ...        0\n",
            "8   Reddit                     As a european, I approve this.        0\n",
            "9   Reddit  Idk which of these groups to join, they're all...        0\n"
          ]
        }
      ]
    },
    {
      "cell_type": "markdown",
      "source": [
        "MAPPING THE COLUMNS FOR HATE SPEECH"
      ],
      "metadata": {
        "id": "7F36-EgrqvMn"
      }
    },
    {
      "cell_type": "markdown",
      "source": [],
      "metadata": {
        "id": "cbhDVTxsru5u"
      }
    },
    {
      "cell_type": "code",
      "source": [
        "data[\"labels\"]=data[\"Hateful\"].map({0:\"NOT HATE SPEECH\" , 1:\"HATE SPEECH\"})\n",
        "print(data.head(10))"
      ],
      "metadata": {
        "colab": {
          "base_uri": "https://localhost:8080/"
        },
        "id": "7dYauMhlq2G0",
        "outputId": "ce91ecc6-6876-4d31-a64f-18cddd7d695c"
      },
      "execution_count": null,
      "outputs": [
        {
          "output_type": "stream",
          "name": "stdout",
          "text": [
            "  Platform                                            Comment  Hateful  \\\n",
            "0   Reddit  Damn I thought they had strict gun laws in Ger...        0   \n",
            "1   Reddit  I dont care about what it stands for or anythi...        0   \n",
            "2   Reddit                  It's not a group it's an idea lol        0   \n",
            "3   Reddit                          So it's not just America!        0   \n",
            "4   Reddit  The dog is a spectacular dancer considering he...        0   \n",
            "5   Reddit  If ppl dont wear masks you complain... If ppl ...        0   \n",
            "6   Reddit            We should send them All back  to africa        1   \n",
            "7   Reddit  Checking to see if it's whataboutism from the ...        0   \n",
            "8   Reddit                     As a european, I approve this.        0   \n",
            "9   Reddit  Idk which of these groups to join, they're all...        0   \n",
            "\n",
            "            labels  \n",
            "0  NOT HATE SPEECH  \n",
            "1  NOT HATE SPEECH  \n",
            "2  NOT HATE SPEECH  \n",
            "3  NOT HATE SPEECH  \n",
            "4  NOT HATE SPEECH  \n",
            "5  NOT HATE SPEECH  \n",
            "6      HATE SPEECH  \n",
            "7  NOT HATE SPEECH  \n",
            "8  NOT HATE SPEECH  \n",
            "9  NOT HATE SPEECH  \n"
          ]
        }
      ]
    },
    {
      "cell_type": "markdown",
      "source": [
        "SPLITING THE COLUMNS NECESSARY FOR OUR PROJECT"
      ],
      "metadata": {
        "id": "rMfleRhuueJx"
      }
    },
    {
      "cell_type": "markdown",
      "source": [],
      "metadata": {
        "id": "e_2qV2Gnuthp"
      }
    },
    {
      "cell_type": "code",
      "source": [
        "data=data[[\"Comment\",\"labels\"]]\n",
        "print(data.head(10))"
      ],
      "metadata": {
        "colab": {
          "base_uri": "https://localhost:8080/"
        },
        "id": "Q4s_PIewqjBs",
        "outputId": "52d98574-1688-434f-d601-9677594b5491"
      },
      "execution_count": null,
      "outputs": [
        {
          "output_type": "stream",
          "name": "stdout",
          "text": [
            "                                             Comment           labels\n",
            "0  Damn I thought they had strict gun laws in Ger...  NOT HATE SPEECH\n",
            "1  I dont care about what it stands for or anythi...  NOT HATE SPEECH\n",
            "2                  It's not a group it's an idea lol  NOT HATE SPEECH\n",
            "3                          So it's not just America!  NOT HATE SPEECH\n",
            "4  The dog is a spectacular dancer considering he...  NOT HATE SPEECH\n",
            "5  If ppl dont wear masks you complain... If ppl ...  NOT HATE SPEECH\n",
            "6            We should send them All back  to africa      HATE SPEECH\n",
            "7  Checking to see if it's whataboutism from the ...  NOT HATE SPEECH\n",
            "8                     As a european, I approve this.  NOT HATE SPEECH\n",
            "9  Idk which of these groups to join, they're all...  NOT HATE SPEECH\n"
          ]
        }
      ]
    },
    {
      "cell_type": "markdown",
      "source": [
        "CLEANING THE SENTENCE IN DATASET"
      ],
      "metadata": {
        "id": "nopZwMwNuxIA"
      }
    },
    {
      "cell_type": "code",
      "source": [
        "def clean(text):\n",
        "  text=str(text).lower()\n",
        "  text=re.sub('\\[.*?\\]', '', text)\n",
        "  text=re.sub('https?://\\S+|www\\.\\S+', '', text)\n",
        "  text=re.sub('<.*?>+', '', text)\n",
        "  text=re.sub('[%s]' % re.escape(string.punctuation), '', text)\n",
        "  text=re.sub('\\n', '', text)\n",
        "  text=re.sub('\\w*\\d\\w*', '', text)\n",
        "  text=[word for word in text.split(' ') if word not in stopwords.words]\n",
        "  text=\" \".join(text)\n",
        "  text=[stemmer.stem(word) for word in text.split(' ')]\n",
        "  text=\" \".join(text)\n",
        "  text=[stemmer.stem(word) for word in text.split(' ')]\n",
        "  text=\" \".join(text)\n",
        "  return text\n",
        "\n",
        "\n",
        "\n",
        "  data[\"Comment\"]=data[\"Comment\"].apply(clean)"
      ],
      "metadata": {
        "id": "wmZegOptu7oh"
      },
      "execution_count": null,
      "outputs": []
    },
    {
      "cell_type": "code",
      "source": [
        "print(data.head(10))\n"
      ],
      "metadata": {
        "colab": {
          "base_uri": "https://localhost:8080/"
        },
        "id": "kA7yPVT57KLy",
        "outputId": "8abf02b4-2e68-4627-8c22-93da3c392d32"
      },
      "execution_count": 14,
      "outputs": [
        {
          "output_type": "stream",
          "name": "stdout",
          "text": [
            "                                             Comment           labels\n",
            "0  Damn I thought they had strict gun laws in Ger...  NOT HATE SPEECH\n",
            "1  I dont care about what it stands for or anythi...  NOT HATE SPEECH\n",
            "2                  It's not a group it's an idea lol  NOT HATE SPEECH\n",
            "3                          So it's not just America!  NOT HATE SPEECH\n",
            "4  The dog is a spectacular dancer considering he...  NOT HATE SPEECH\n",
            "5  If ppl dont wear masks you complain... If ppl ...  NOT HATE SPEECH\n",
            "6            We should send them All back  to africa      HATE SPEECH\n",
            "7  Checking to see if it's whataboutism from the ...  NOT HATE SPEECH\n",
            "8                     As a european, I approve this.  NOT HATE SPEECH\n",
            "9  Idk which of these groups to join, they're all...  NOT HATE SPEECH\n"
          ]
        }
      ]
    }
  ]
}