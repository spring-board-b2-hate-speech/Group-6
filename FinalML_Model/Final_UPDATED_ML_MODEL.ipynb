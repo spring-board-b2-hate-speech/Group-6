{
  "nbformat": 4,
  "nbformat_minor": 0,
  "metadata": {
    "colab": {
      "provenance": []
    },
    "kernelspec": {
      "name": "python3",
      "display_name": "Python 3"
    },
    "language_info": {
      "name": "python"
    }
  },
  "cells": [
    {
      "cell_type": "markdown",
      "source": [
        "HATE SPEECH DETECTION IN SNAPCHAT::\n",
        "\n",
        "we are going to develope a hate speech detection model using machine learning.\n"
      ],
      "metadata": {
        "id": "Fl7x1t_JSPDt"
      }
    },
    {
      "cell_type": "markdown",
      "source": [
        "We have selected a dataset the info of dataset is available in Readme section of github repo."
      ],
      "metadata": {
        "id": "QZDkH34jWlMQ"
      }
    },
    {
      "cell_type": "markdown",
      "source": [
        "-- Now we are going to see all steps"
      ],
      "metadata": {
        "id": "1fu7QZhlW9W4"
      }
    },
    {
      "cell_type": "markdown",
      "source": [
        "--- Data Cleaning and Analysis:\n",
        "\n",
        "Data cleaning involves preparing and cleaning the raw data to make it suitable for analysis. This includes handling missing values, removing special characters, converting text to lowercase, and more.\n",
        "\n",
        "--Data analysis helps us to  understand the characteristics of our data, identify patterns, and detect any issues that need to be addressed."
      ],
      "metadata": {
        "id": "wJeQQ2yEXL_V"
      }
    },
    {
      "cell_type": "markdown",
      "source": [
        "-- Data Preprocessing:\n",
        "\n",
        "--Tokenization and count Vectorization:\n",
        "--Label Encoding:\n",
        "\n",
        "Data preprocessing includes steps like tokenization (splitting text into words), label encoding (converting categorical labels into numeric values), and count vectorization (converting text into a matrix of token counts).\n",
        "\n"
      ],
      "metadata": {
        "id": "hcqfZ2_nXjQt"
      }
    },
    {
      "cell_type": "markdown",
      "source": [
        "---LABEL Encoding:"
      ],
      "metadata": {
        "id": "g-Y9G6fXZ5q7"
      }
    },
    {
      "cell_type": "markdown",
      "source": [
        "Encode the 'Platform' Column using Label Encoding\n",
        "\n",
        "Label Encoding transforms categorical values into integers. This is particularly useful for machine learning algorithms that cannot work with categorical data directly.\n",
        "\n",
        "\n",
        "\n",
        "--Encode the 'Comment' Column using Count Vectorization.\n",
        "\n",
        "Count Vectorization converts the text into a matrix of token counts. Each word in the text is represented as a feature.\n",
        "\n",
        "--Combine Encoded Features.\n",
        "\n",
        "We merge the encoded Platform column and the count vectorized Comment data into a single DataFrame."
      ],
      "metadata": {
        "id": "CjWaglVKaL2S"
      }
    },
    {
      "cell_type": "markdown",
      "source": [
        "---Splitting the Data: Splitting the dataset involves dividing the data into training and testing sets to evaluate the model's performance."
      ],
      "metadata": {
        "id": "oX_42YU8Vii4"
      }
    },
    {
      "cell_type": "markdown",
      "source": [
        "-- Handling DATA Imbalance with SMOTE\n",
        "\n",
        "\n",
        "SMOTE (Synthetic Minority Over-sampling Technique) is used to address class imbalance by generating synthetic samples for the minority class."
      ],
      "metadata": {
        "id": "9aF2zn__bW3y"
      }
    },
    {
      "cell_type": "markdown",
      "source": [
        " -----Model Selection with Logistic Regression:\n",
        "\n",
        "\n",
        " Logistic regression is chosen for its simplicity and effectiveness for binary classification tasks."
      ],
      "metadata": {
        "id": "A-Ws3XJ-cByh"
      }
    },
    {
      "cell_type": "markdown",
      "source": [
        "---Evaluation:"
      ],
      "metadata": {
        "id": "hpL334rSd5LH"
      }
    },
    {
      "cell_type": "code",
      "source": [
        "import pandas as pd\n",
        "import numpy as np\n",
        "import matplotlib.pyplot as plt\n",
        "import seaborn as sns\n",
        "from sklearn.model_selection import train_test_split, GridSearchCV\n",
        "from sklearn.feature_extraction.text import TfidfVectorizer, CountVectorizer\n",
        "from sklearn.linear_model import LogisticRegression\n",
        "from sklearn.preprocessing import LabelEncoder\n",
        "from sklearn.metrics import accuracy_score, classification_report, confusion_matrix\n",
        "from imblearn.over_sampling import SMOTE\n",
        "from nltk.corpus import stopwords\n",
        "from nltk.tokenize import word_tokenize\n",
        "from nltk.stem import WordNetLemmatizer\n",
        "import nltk\n",
        "\n",
        "# Download necessary NLTK data\n",
        "nltk.download('punkt')\n",
        "nltk.download('stopwords')\n",
        "nltk.download('wordnet')\n",
        "\n",
        "# Load the dataset\n",
        "df = pd.read_csv('/content/HateSpeechDetection (Balanced dataset).csv')\n",
        "\n",
        "# Data Cleaning\n",
        "df['Comment'] = df['Comment'].str.replace('[^a-zA-Z\\s]', '', regex=True).str.lower()\n",
        "\n",
        "# Data Preprocessing\n",
        "df['tokenized_text'] = df['Comment'].apply(word_tokenize)\n",
        "\n",
        "# Label Encoding\n",
        "label_encoder = LabelEncoder()\n",
        "df['Platform_encoded'] = label_encoder.fit_transform(df['Platform'])\n",
        "\n",
        "# Count Vectorization\n",
        "count_vectorizer = CountVectorizer(max_features=5000)\n",
        "comments_count = count_vectorizer.fit_transform(df['Comment']).toarray()\n",
        "comments_count_df = pd.DataFrame(comments_count, columns=count_vectorizer.get_feature_names_out())\n",
        "\n",
        "# Combine all features into a single DataFrame\n",
        "encoded_data = pd.concat([comments_count_df, df['Platform_encoded']], axis=1)\n",
        "encoded_data['Hateful'] = df['Hateful']\n",
        "\n",
        "# Handling Data Imbalance with SMOTE\n",
        "X = encoded_data.drop(columns=['Hateful'])\n",
        "y = encoded_data['Hateful']\n",
        "\n",
        "smote = SMOTE(random_state=42)\n",
        "X_smote, y_smote = smote.fit_resample(X, y)\n",
        "\n",
        "# Splitting the Data\n",
        "X_train, X_test, y_train, y_test = train_test_split(X_smote, y_smote, test_size=0.2, random_state=42)\n",
        "\n",
        "# Model Selection with Logistic Regression\n",
        "vectorizer = TfidfVectorizer(max_features=5000)\n",
        "X_train_vec = vectorizer.fit_transform(X_train.apply(lambda row: ' '.join(row.index[row > 0]), axis=1))\n",
        "X_test_vec = vectorizer.transform(X_test.apply(lambda row: ' '.join(row.index[row > 0]), axis=1))\n",
        "\n",
        "lr_model = LogisticRegression(max_iter=200)\n",
        "lr_params = {'C': [0.01, 0.1, 1, 10, 100, 1000]}\n",
        "lr_grid = GridSearchCV(lr_model, lr_params, cv=5, scoring='accuracy')\n",
        "lr_grid.fit(X_train_vec, y_train)\n",
        "\n",
        "# Make predictions\n",
        "lr_predictions = lr_grid.predict(X_test_vec)\n",
        "\n",
        "# Evaluate the Model\n",
        "lr_accuracy = accuracy_score(y_test, lr_predictions)\n",
        "print('Logistic Regression Accuracy:', lr_accuracy)\n",
        "print('Best Parameters:', lr_grid.best_params_)\n",
        "print(classification_report(y_test, lr_predictions))\n",
        "\n",
        "# Plot Confusion Matrix\n",
        "conf_matrix = confusion_matrix(y_test, lr_predictions)\n",
        "plt.figure(figsize=(8, 6))\n",
        "sns.heatmap(conf_matrix, annot=True, fmt='d', cmap='Blues', xticklabels=['Non-Hateful', 'Hateful'], yticklabels=['Non-Hateful', 'Hateful'])\n",
        "plt.xlabel('Predicted')\n",
        "plt.ylabel('Actual')\n",
        "plt.title('Confusion Matrix')\n",
        "plt.show()\n"
      ],
      "metadata": {
        "colab": {
          "base_uri": "https://localhost:8080/",
          "height": 1000
        },
        "id": "rZwDkEmFPZ-K",
        "outputId": "1f23c24a-9cc4-4901-d1d5-413aee0a2af4"
      },
      "execution_count": 66,
      "outputs": [
        {
          "output_type": "stream",
          "name": "stderr",
          "text": [
            "[nltk_data] Downloading package punkt to /root/nltk_data...\n",
            "[nltk_data]   Package punkt is already up-to-date!\n",
            "[nltk_data] Downloading package stopwords to /root/nltk_data...\n",
            "[nltk_data]   Package stopwords is already up-to-date!\n",
            "[nltk_data] Downloading package wordnet to /root/nltk_data...\n",
            "[nltk_data]   Package wordnet is already up-to-date!\n",
            "/usr/local/lib/python3.10/dist-packages/sklearn/linear_model/_logistic.py:458: ConvergenceWarning: lbfgs failed to converge (status=1):\n",
            "STOP: TOTAL NO. of ITERATIONS REACHED LIMIT.\n",
            "\n",
            "Increase the number of iterations (max_iter) or scale the data as shown in:\n",
            "    https://scikit-learn.org/stable/modules/preprocessing.html\n",
            "Please also refer to the documentation for alternative solver options:\n",
            "    https://scikit-learn.org/stable/modules/linear_model.html#logistic-regression\n",
            "  n_iter_i = _check_optimize_result(\n",
            "/usr/local/lib/python3.10/dist-packages/sklearn/linear_model/_logistic.py:458: ConvergenceWarning: lbfgs failed to converge (status=1):\n",
            "STOP: TOTAL NO. of ITERATIONS REACHED LIMIT.\n",
            "\n",
            "Increase the number of iterations (max_iter) or scale the data as shown in:\n",
            "    https://scikit-learn.org/stable/modules/preprocessing.html\n",
            "Please also refer to the documentation for alternative solver options:\n",
            "    https://scikit-learn.org/stable/modules/linear_model.html#logistic-regression\n",
            "  n_iter_i = _check_optimize_result(\n",
            "/usr/local/lib/python3.10/dist-packages/sklearn/linear_model/_logistic.py:458: ConvergenceWarning: lbfgs failed to converge (status=1):\n",
            "STOP: TOTAL NO. of ITERATIONS REACHED LIMIT.\n",
            "\n",
            "Increase the number of iterations (max_iter) or scale the data as shown in:\n",
            "    https://scikit-learn.org/stable/modules/preprocessing.html\n",
            "Please also refer to the documentation for alternative solver options:\n",
            "    https://scikit-learn.org/stable/modules/linear_model.html#logistic-regression\n",
            "  n_iter_i = _check_optimize_result(\n",
            "/usr/local/lib/python3.10/dist-packages/sklearn/linear_model/_logistic.py:458: ConvergenceWarning: lbfgs failed to converge (status=1):\n",
            "STOP: TOTAL NO. of ITERATIONS REACHED LIMIT.\n",
            "\n",
            "Increase the number of iterations (max_iter) or scale the data as shown in:\n",
            "    https://scikit-learn.org/stable/modules/preprocessing.html\n",
            "Please also refer to the documentation for alternative solver options:\n",
            "    https://scikit-learn.org/stable/modules/linear_model.html#logistic-regression\n",
            "  n_iter_i = _check_optimize_result(\n",
            "/usr/local/lib/python3.10/dist-packages/sklearn/linear_model/_logistic.py:458: ConvergenceWarning: lbfgs failed to converge (status=1):\n",
            "STOP: TOTAL NO. of ITERATIONS REACHED LIMIT.\n",
            "\n",
            "Increase the number of iterations (max_iter) or scale the data as shown in:\n",
            "    https://scikit-learn.org/stable/modules/preprocessing.html\n",
            "Please also refer to the documentation for alternative solver options:\n",
            "    https://scikit-learn.org/stable/modules/linear_model.html#logistic-regression\n",
            "  n_iter_i = _check_optimize_result(\n"
          ]
        },
        {
          "output_type": "stream",
          "name": "stdout",
          "text": [
            "Logistic Regression Accuracy: 0.8958333333333334\n",
            "Best Parameters: {'C': 10}\n",
            "              precision    recall  f1-score   support\n",
            "\n",
            "           0       0.91      0.88      0.89       481\n",
            "           1       0.88      0.91      0.90       479\n",
            "\n",
            "    accuracy                           0.90       960\n",
            "   macro avg       0.90      0.90      0.90       960\n",
            "weighted avg       0.90      0.90      0.90       960\n",
            "\n"
          ]
        },
        {
          "output_type": "display_data",
          "data": {
            "text/plain": [
              "<Figure size 800x600 with 2 Axes>"
            ],
            "image/png": "[encoded data removed]"
          },
          "metadata": {}
        }
      ]
    }
  ]
}