{
  "nbformat": 4,
  "nbformat_minor": 0,
  "metadata": {
    "colab": {
      "provenance": []
    },
    "kernelspec": {
      "name": "python3",
      "display_name": "Python 3"
    },
    "language_info": {
      "name": "python"
    }
  },
  "cells": [
    {
      "cell_type": "markdown",
      "source": [
        "3: Frequency Encoding and Count Vectorization"
      ],
      "metadata": {
        "id": "wEei82S8FXFG"
      }
    },
    {
      "cell_type": "code",
      "source": [
        "import pandas as pd\n",
        "from sklearn.feature_extraction.text import CountVectorizer\n",
        "from sklearn.model_selection import train_test_split\n",
        "from sklearn.linear_model import LogisticRegression\n",
        "from sklearn.metrics import accuracy_score, classification_report\n",
        "\n",
        "# Load the dataset\n",
        "file_path = '/content/HateSpeechDetection (preprocessed).csv'\n",
        "data = pd.read_csv(file_path)\n",
        "\n",
        "# Frequency Encode the 'Platform' column\n",
        "data['Platform_encoded'] = data['Platform'].map(data['Platform'].value_counts())\n",
        "\n",
        "# Count Vectorize the 'Comment' column\n",
        "count_vectorizer = CountVectorizer(max_features=5000)\n",
        "comments_count = count_vectorizer.fit_transform(data['Comment']).toarray()\n",
        "\n",
        "# Combine encoded features\n",
        "encoded_data = pd.DataFrame(comments_count, columns=count_vectorizer.get_feature_names_out())\n",
        "encoded_data['Platform_encoded'] = data['Platform_encoded']\n",
        "encoded_data['Hateful'] = data['Hateful']\n",
        "\n",
        "# Split data into training and testing sets\n",
        "X = encoded_data.drop('Hateful', axis=1)\n",
        "y = encoded_data['Hateful']\n",
        "X_train, X_test, y_train, y_test = train_test_split(X, y, test_size=0.2, random_state=42)\n",
        "\n",
        "# Train and evaluate model\n",
        "model = LogisticRegression(max_iter=1000)\n",
        "model.fit(X_train, y_train)\n",
        "y_pred = model.predict(X_test)\n",
        "accuracy = accuracy_score(y_test, y_pred)\n",
        "report = classification_report(y_test, y_pred)\n",
        "\n",
        "print(f'Accuracy (Frequency Encoding + Count Vectorization): {accuracy}')\n",
        "print('Classification Report:')\n",
        "print(report)\n"
      ],
      "metadata": {
        "colab": {
          "base_uri": "https://localhost:8080/"
        },
        "id": "NFoU32ZBFYtB",
        "outputId": "7dc66a73-7748-438c-ffcb-e173b65f6b80"
      },
      "execution_count": 1,
      "outputs": [
        {
          "output_type": "stream",
          "name": "stdout",
          "text": [
            "Accuracy (Frequency Encoding + Count Vectorization): 0.9283333333333333\n",
            "Classification Report:\n",
            "              precision    recall  f1-score   support\n",
            "\n",
            "           0       0.92      1.00      0.96       494\n",
            "           1       0.97      0.61      0.75       106\n",
            "\n",
            "    accuracy                           0.93       600\n",
            "   macro avg       0.95      0.80      0.85       600\n",
            "weighted avg       0.93      0.93      0.92       600\n",
            "\n"
          ]
        }
      ]
    },
    {
      "cell_type": "markdown",
      "source": [
        "THUS WE HAVE GONE THROUGH THESE ENCODING METHODS:\n",
        "\n",
        "Method 1:\n",
        "Label Encoding + Count Vectorization\n",
        "\n",
        "Method 2:\n",
        "One-Hot Encoding + TF-IDF Vectorization\n",
        "\n",
        "Method 3:\n",
        "Frequency Encoding + Count Vectorization"
      ],
      "metadata": {
        "id": "pYjEoKl7F0z6"
      }
    }
  ]
}