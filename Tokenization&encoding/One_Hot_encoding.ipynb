{
  "nbformat": 4,
  "nbformat_minor": 0,
  "metadata": {
    "colab": {
      "provenance": []
    },
    "kernelspec": {
      "name": "python3",
      "display_name": "Python 3"
    },
    "language_info": {
      "name": "python"
    }
  },
  "cells": [
    {
      "cell_type": "markdown",
      "source": [
        " 2: One-Hot Encoding and TF-IDF Vectorization"
      ],
      "metadata": {
        "id": "e6rGw0-WD50n"
      }
    },
    {
      "cell_type": "code",
      "source": [
        "import pandas as pd\n",
        "from sklearn.preprocessing import OneHotEncoder\n",
        "from sklearn.feature_extraction.text import TfidfVectorizer\n",
        "from sklearn.model_selection import train_test_split\n",
        "from sklearn.linear_model import LogisticRegression\n",
        "from sklearn.metrics import accuracy_score, classification_report\n",
        "\n",
        "# Load the dataset\n",
        "file_path = '/content/HateSpeechDetection (preprocessed).csv'\n",
        "data = pd.read_csv(file_path)\n",
        "\n",
        "# One-Hot Encode the 'Platform' column\n",
        "platform_one_hot = pd.get_dummies(data['Platform'], prefix='Platform')\n",
        "\n",
        "# TF-IDF Vectorize the 'Comment' column\n",
        "tfidf_vectorizer = TfidfVectorizer(max_features=5000)\n",
        "comments_tfidf = tfidf_vectorizer.fit_transform(data['Comment']).toarray()\n",
        "\n",
        "# Combine encoded features\n",
        "encoded_data = pd.DataFrame(comments_tfidf, columns=tfidf_vectorizer.get_feature_names_out())\n",
        "encoded_data = pd.concat([encoded_data, platform_one_hot], axis=1)\n",
        "encoded_data['Hateful'] = data['Hateful']\n",
        "\n",
        "# Split data into training and testing sets\n",
        "X = encoded_data.drop('Hateful', axis=1)\n",
        "y = encoded_data['Hateful']\n",
        "X_train, X_test, y_train, y_test = train_test_split(X, y, test_size=0.2, random_state=42)\n",
        "\n",
        "# Train and evaluate model\n",
        "model = LogisticRegression(max_iter=1000)\n",
        "model.fit(X_train, y_train)\n",
        "y_pred = model.predict(X_test)\n",
        "accuracy = accuracy_score(y_test, y_pred)\n",
        "report = classification_report(y_test, y_pred)\n",
        "\n",
        "print(f'Accuracy (One-Hot Encoding + TF-IDF Vectorization): {accuracy}')\n",
        "print('Classification Report:')\n",
        "print(report)\n"
      ],
      "metadata": {
        "colab": {
          "base_uri": "https://localhost:8080/"
        },
        "id": "vssuF1nTEAD-",
        "outputId": "dd1ae748-318d-41d7-c4a0-a663039ceea6"
      },
      "execution_count": 1,
      "outputs": [
        {
          "output_type": "stream",
          "name": "stdout",
          "text": [
            "Accuracy (One-Hot Encoding + TF-IDF Vectorization): 0.8783333333333333\n",
            "Classification Report:\n",
            "              precision    recall  f1-score   support\n",
            "\n",
            "           0       0.87      1.00      0.93       494\n",
            "           1       1.00      0.31      0.47       106\n",
            "\n",
            "    accuracy                           0.88       600\n",
            "   macro avg       0.94      0.66      0.70       600\n",
            "weighted avg       0.89      0.88      0.85       600\n",
            "\n"
          ]
        }
      ]
    }
  ]
}