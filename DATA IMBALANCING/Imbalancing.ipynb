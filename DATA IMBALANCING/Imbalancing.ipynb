{
  "nbformat": 4,
  "nbformat_minor": 0,
  "metadata": {
    "colab": {
      "provenance": []
    },
    "kernelspec": {
      "name": "python3",
      "display_name": "Python 3"
    },
    "language_info": {
      "name": "python"
    }
  },
  "cells": [
    {
      "cell_type": "markdown",
      "source": [
        "1. WHAT IS IMBALANCED DATA IN CLASSIFICATION:"
      ],
      "metadata": {
        "id": "PTnmG48lL73m"
      }
    },
    {
      "cell_type": "markdown",
      "source": [
        "Imbalanced data in classification refers to a dataset where the distribution of class labels is uneven, with one class significantly outnumbering the other. This imbalance can pose challenges for machine learning models, as they might exhibit bias towards the majority class, leading to poor performance in predicting the minority class."
      ],
      "metadata": {
        "id": "1otfiW96M7L6"
      }
    },
    {
      "cell_type": "markdown",
      "source": [
        "2. Why is imbalanced data a problem in machine learning?"
      ],
      "metadata": {
        "id": "jhi6gxVwNXhw"
      }
    },
    {
      "cell_type": "markdown",
      "source": [
        "Imbalanced data is problematic in machine learning because models trained on such datasets may prioritize accuracy on the majority class while neglecting the minority class. This can result in biased models that perform poorly in identifying and generalizing patterns related to the minority class."
      ],
      "metadata": {
        "id": "2FU2fm91Ng8a"
      }
    },
    {
      "cell_type": "markdown",
      "source": [
        "  \n",
        "  3.What are common techniques to handle imbalanced data?"
      ],
      "metadata": {
        "id": "ukzuhqfUNkvC"
      }
    },
    {
      "cell_type": "markdown",
      "source": [
        "Common techniques to handle imbalanced data include oversampling the minority class, undersampling the majority class, using synthetic data generation methods (e.g., SMOTE), adjusting class weights, and employing specialized algorithms designed for imbalanced datasets."
      ],
      "metadata": {
        "id": "IRvRPv85NpyP"
      }
    },
    {
      "cell_type": "markdown",
      "source": [
        "4. How does oversampling and undersampling work?"
      ],
      "metadata": {
        "id": "PH1nRSYYNspF"
      }
    },
    {
      "cell_type": "markdown",
      "source": [
        "Oversampling involves creating additional instances of the minority class to balance the class distribution, while undersampling reduces the number of instances in the majority class. Both techniques aim to create a more balanced dataset for training machine learning models."
      ],
      "metadata": {
        "id": "_csEgdk7NyZR"
      }
    },
    {
      "cell_type": "markdown",
      "source": [
        "5. When to use ensemble methods for imbalanced data?"
      ],
      "metadata": {
        "id": "kJj4PfxlN11k"
      }
    },
    {
      "cell_type": "markdown",
      "source": [
        "Ensemble methods, such as Random Forests and BalancedBaggingClassifier, are effective for handling imbalanced data as they inherently address class imbalances. They can be particularly useful when there is a need for combining multiple models to achieve better generalization and robustness."
      ],
      "metadata": {
        "id": "KuRjOEWEN9z0"
      }
    },
    {
      "cell_type": "markdown",
      "source": [
        "NOW WE ARE GOING TO START PERFORMING THE TASK ON OUR DATASET:"
      ],
      "metadata": {
        "id": "Tz-aqIYfOBDm"
      }
    },
    {
      "cell_type": "markdown",
      "source": [
        "The dataset that we have consists of three columns: Platform, Comment, and Hateful, with 3000 entries. The Hateful column is a binary indicator where 0 indicates non-hateful comments and 1 indicates hateful comments. Here’s a summary:\n",
        "\n",
        "Platform:\n",
        " The social media platform where the comment was posted.\n",
        "\n",
        "Comment:\n",
        " The text of the comment.\n",
        "\n",
        "Hateful:\n",
        " A binary label indicating whether the comment is hateful (1) or not (0)."
      ],
      "metadata": {
        "id": "vigTr1m8OaSw"
      }
    },
    {
      "cell_type": "markdown",
      "source": [
        "Data Imbalance:\n",
        "\n",
        "Data imbalance occurs when the classes in a dataset are not represented equally. In this context, it means that there are significantly more non-hateful comments than hateful ones, or vice versa."
      ],
      "metadata": {
        "id": "hS1Q1Rl3OuIF"
      }
    },
    {
      "cell_type": "markdown",
      "source": [
        "Types of Data Imbalance\n",
        "\n",
        "1. Binary Imbalance:\n",
        " This occurs in binary classification tasks, where one class is much more frequent than the other.\n",
        "2. Multi-class Imbalance:\n",
        " This occurs in multi-class classification tasks, where some classes have significantly fewer instances than others.\n",
        "3. Multi-label Imbalance:\n",
        " This occurs in multi-label classification tasks, where some labels are assigned to significantly fewer instances than others."
      ],
      "metadata": {
        "id": "0fOlh1eVPNhY"
      }
    },
    {
      "cell_type": "markdown",
      "source": [
        "For this dataset, we have a binary imbalance issue since the task is to classify comments as either hateful or non-hateful."
      ],
      "metadata": {
        "id": "ngM8ZF0kPaOu"
      }
    },
    {
      "cell_type": "markdown",
      "source": [
        "Code for Addressing Data Imbalance::"
      ],
      "metadata": {
        "id": "-FZ-oIvlPdIL"
      }
    },
    {
      "cell_type": "markdown",
      "source": [
        "Here is the steps that we are going to take for handling data imbalance:\n",
        "\n",
        "1. Load and Explore Data\n",
        "\n",
        "2. Visualize Class Distribution\n",
        "\n",
        "3. Handling Data Imbalance\n",
        "\n",
        "3.1 Resampling Techniques: Oversampling and Undersampling\n",
        "\n",
        "3.2 Synthetic Data Generation: SMOTE\n",
        "\n",
        "4. Model Training and Evaluation\n",
        "\n",
        "4.1 Baseline Model without Addressing Imbalance\n",
        "\n",
        "4.2 Model with Resampling Techniques\n",
        "\n",
        "4.3 Model with SMOTE"
      ],
      "metadata": {
        "id": "m7j-DKNwPllv"
      }
    },
    {
      "cell_type": "markdown",
      "source": [
        "Stage 1: Load and Explore Data"
      ],
      "metadata": {
        "id": "LqK2sYqPQkM6"
      }
    },
    {
      "cell_type": "code",
      "source": [
        "import pandas as pd\n",
        "\n",
        "# Load the dataset\n",
        "file_path = '/content/HateSpeechDetection (preprocessed).csv'\n",
        "data = pd.read_csv(file_path)\n",
        "\n",
        "# Display the first few rows of the dataset\n",
        "print(data.head())\n",
        "\n",
        "# Summary of the dataset\n",
        "print(data.describe())\n",
        "print(data.info())\n",
        "\n",
        "# Check class distribution\n",
        "print(data['Hateful'].value_counts())\n"
      ],
      "metadata": {
        "colab": {
          "base_uri": "https://localhost:8080/"
        },
        "id": "XStQ6yp5QsoC",
        "outputId": "04c7a7f7-8d3c-4b49-ceb7-ed7c2cfa0843"
      },
      "execution_count": 1,
      "outputs": [
        {
          "output_type": "stream",
          "name": "stdout",
          "text": [
            "  Platform                                            Comment  Hateful\n",
            "0   Reddit  Damn I thought they had strict gun laws in Ger...        0\n",
            "1   Reddit  I dont care about what it stands for or anythi...        0\n",
            "2   Reddit                  It's not a group it's an idea lol        0\n",
            "3   Reddit                          So it's not just America!        0\n",
            "4   Reddit  The dog is a spectacular dancer considering he...        0\n",
            "           Hateful\n",
            "count  3000.000000\n",
            "mean      0.200000\n",
            "std       0.400067\n",
            "min       0.000000\n",
            "25%       0.000000\n",
            "50%       0.000000\n",
            "75%       0.000000\n",
            "max       1.000000\n",
            "<class 'pandas.core.frame.DataFrame'>\n",
            "RangeIndex: 3000 entries, 0 to 2999\n",
            "Data columns (total 3 columns):\n",
            " #   Column    Non-Null Count  Dtype \n",
            "---  ------    --------------  ----- \n",
            " 0   Platform  3000 non-null   object\n",
            " 1   Comment   3000 non-null   object\n",
            " 2   Hateful   3000 non-null   int64 \n",
            "dtypes: int64(1), object(2)\n",
            "memory usage: 70.4+ KB\n",
            "None\n",
            "Hateful\n",
            "0    2400\n",
            "1     600\n",
            "Name: count, dtype: int64\n"
          ]
        }
      ]
    },
    {
      "cell_type": "markdown",
      "source": [
        "Explanation of above code:\n",
        "\n",
        "\n",
        "Loading the dataset:\n",
        " We use pandas to read the CSV file and load the dataset into a DataFrame.\n",
        "\n",
        "Displaying the first few rows:\n",
        " This helps us get a quick look at the data and its format.\n",
        "\n",
        "Summary and info:\n",
        " describe() gives us a statistical summary of the dataset, and info() provides details about the data types and missing values.\n",
        "\n",
        "Class distribution:\n",
        " value_counts() shows the count of each class (0 and 1 in the Hateful column), which helps us understand if there is an imbalance."
      ],
      "metadata": {
        "id": "rH-ujMPCTZKR"
      }
    },
    {
      "cell_type": "markdown",
      "source": [
        "Stage 2: Visualize Class Distribution"
      ],
      "metadata": {
        "id": "Gur-ukJ1RHgR"
      }
    },
    {
      "cell_type": "code",
      "source": [
        "import matplotlib.pyplot as plt\n",
        "import seaborn as sns\n",
        "\n",
        "# Visualize class distribution\n",
        "sns.countplot(x='Hateful', data=data)\n",
        "plt.title('Class Distribution')\n",
        "plt.show()\n"
      ],
      "metadata": {
        "colab": {
          "base_uri": "https://localhost:8080/",
          "height": 472
        },
        "id": "Lcu4-H30RLK6",
        "outputId": "d8fb863b-3b5c-4bce-f1a6-c1e169192c4d"
      },
      "execution_count": 2,
      "outputs": [
        {
          "output_type": "display_data",
          "data": {
            "text/plain": [
              "<Figure size 640x480 with 1 Axes>"
            ],
            "image/png": "[encoded data removed]"
          },
          "metadata": {}
        }
      ]
    },
    {
      "cell_type": "markdown",
      "source": [
        "Explanation of code:\n",
        "\n",
        "Matplotlib and Seaborn:\n",
        "\n",
        " These libraries are used for data visualization.\n",
        "\n",
        "Countplot: sns.countplot():\n",
        "\n",
        " is used to create a bar plot showing the count of each class. This visual representation makes it easier to understand the degree of imbalance in the dataset."
      ],
      "metadata": {
        "id": "D_PyauutTphz"
      }
    },
    {
      "cell_type": "markdown",
      "source": [
        "Stage 3: Handling Data Imbalance\n",
        "\n",
        "Resampling Techniques:\n",
        "Objective:\n",
        "Adjust the class distribution to create a balanced dataset."
      ],
      "metadata": {
        "id": "I9by-m_SRcWM"
      }
    },
    {
      "cell_type": "markdown",
      "source": [
        "Oversampling:::::\n",
        "\n",
        "Definition:\n",
        " Increasing the number of instances in the minority class by randomly duplicating some of its instances.\n",
        "\n",
        "Reason:\n",
        " Helps balance the dataset by making the minority class as frequent as the majority class.\n"
      ],
      "metadata": {
        "id": "59UKXt-kRkRJ"
      }
    },
    {
      "cell_type": "code",
      "source": [
        "from sklearn.utils import resample\n",
        "\n",
        "# Separate majority and minority classes\n",
        "majority_class = data[data['Hateful'] == 0]\n",
        "minority_class = data[data['Hateful'] == 1]\n",
        "\n",
        "# Upsample minority class\n",
        "minority_upsampled = resample(minority_class,\n",
        "                              replace=True,    # sample with replacement\n",
        "                              n_samples=len(majority_class), # to match majority class\n",
        "                              random_state=42) # reproducible results\n",
        "\n",
        "# Combine majority class with upsampled minority class\n",
        "data_upsampled = pd.concat([majority_class, minority_upsampled])\n",
        "\n",
        "# Display new class counts\n",
        "print(data_upsampled['Hateful'].value_counts())\n"
      ],
      "metadata": {
        "colab": {
          "base_uri": "https://localhost:8080/"
        },
        "id": "a1Hh5LUGRmdJ",
        "outputId": "8301541d-c9da-42da-b06d-5d57a641e737"
      },
      "execution_count": 3,
      "outputs": [
        {
          "output_type": "stream",
          "name": "stdout",
          "text": [
            "Hateful\n",
            "0    2400\n",
            "1    2400\n",
            "Name: count, dtype: int64\n"
          ]
        }
      ]
    },
    {
      "cell_type": "markdown",
      "source": [
        "Undersampling:::::\n",
        "Definition:\n",
        " Reducing the number of instances in the majority class by randomly removing some of its instances.\n",
        "\n",
        "Reason:\n",
        " Helps balance the dataset by making the majority class as frequent as the minority class."
      ],
      "metadata": {
        "id": "RjiYVNp-Rxj_"
      }
    },
    {
      "cell_type": "code",
      "source": [
        "# Downsample majority class\n",
        "majority_downsampled = resample(majority_class,\n",
        "                                replace=False,    # sample without replacement\n",
        "                                n_samples=len(minority_class), # to match minority class\n",
        "                                random_state=42) # reproducible results\n",
        "\n",
        "# Combine minority class with downsampled majority class\n",
        "data_downsampled = pd.concat([majority_class, majority_downsampled])\n",
        "\n",
        "# Display new class counts\n",
        "print(data_downsampled['Hateful'].value_counts())\n"
      ],
      "metadata": {
        "colab": {
          "base_uri": "https://localhost:8080/"
        },
        "id": "m1ulkywNR2LU",
        "outputId": "0a873b24-8388-42ca-8e5a-297e309b1f5f"
      },
      "execution_count": 4,
      "outputs": [
        {
          "output_type": "stream",
          "name": "stdout",
          "text": [
            "Hateful\n",
            "0    3000\n",
            "Name: count, dtype: int64\n"
          ]
        }
      ]
    },
    {
      "cell_type": "markdown",
      "source": [
        "Synthetic Data Generation using SMOTE:::::\n",
        "\n",
        "Objective:\n",
        " Generate synthetic samples for the minority class to balance the dataset.\n",
        "\n",
        "SMOTE (Synthetic Minority Over-sampling Technique):\n",
        "\n",
        "\n",
        "Definition:\n",
        " A technique that generates synthetic samples for the minority class by interpolating between existing minority class samples.\n",
        "\n",
        "Reason:\n",
        " More sophisticated than simple oversampling as it generates new, synthetic instances rather than duplicating existing ones.\n"
      ],
      "metadata": {
        "id": "3izJbt_UR9LX"
      }
    },
    {
      "cell_type": "code",
      "source": [
        "from imblearn.over_sampling import SMOTE\n",
        "\n",
        "# Separate features and target\n",
        "X = data['Comment']\n",
        "y = data['Hateful']\n",
        "\n",
        "# Convert text data to numeric using TF-IDF or CountVectorizer\n",
        "from sklearn.feature_extraction.text import TfidfVectorizer\n",
        "vectorizer = TfidfVectorizer()\n",
        "X_vectorized = vectorizer.fit_transform(X)\n",
        "\n",
        "# Apply SMOTE\n",
        "smote = SMOTE(random_state=42)\n",
        "X_smote, y_smote = smote.fit_resample(X_vectorized, y)\n",
        "\n",
        "# Display new class counts\n",
        "print(pd.Series(y_smote).value_counts())\n"
      ],
      "metadata": {
        "colab": {
          "base_uri": "https://localhost:8080/"
        },
        "id": "fQyM9UlCR-_-",
        "outputId": "d614cb59-915e-4d9b-f332-9934e403766a"
      },
      "execution_count": 5,
      "outputs": [
        {
          "output_type": "stream",
          "name": "stdout",
          "text": [
            "Hateful\n",
            "0    2400\n",
            "1    2400\n",
            "Name: count, dtype: int64\n"
          ]
        }
      ]
    },
    {
      "cell_type": "markdown",
      "source": [
        "Stage 4: Model Training and Evaluation::\n",
        "\n",
        "Baseline Model without Addressing Imbalance:\n",
        "Objective:\n",
        " Train and evaluate a model on the original imbalanced dataset to establish a baseline performance."
      ],
      "metadata": {
        "id": "ca5ymxbZSJve"
      }
    },
    {
      "cell_type": "code",
      "source": [
        "from sklearn.model_selection import train_test_split\n",
        "from sklearn.linear_model import LogisticRegression\n",
        "from sklearn.metrics import classification_report, confusion_matrix\n",
        "\n",
        "# Split data\n",
        "X_train, X_test, y_train, y_test = train_test_split(X_vectorized, y, test_size=0.2, random_state=42)\n",
        "\n",
        "# Train a baseline model\n",
        "model = LogisticRegression()\n",
        "model.fit(X_train, y_train)\n",
        "\n",
        "# Predict and evaluate\n",
        "y_pred = model.predict(X_test)\n",
        "print(confusion_matrix(y_test, y_pred))\n",
        "print(classification_report(y_test, y_pred))\n"
      ],
      "metadata": {
        "colab": {
          "base_uri": "https://localhost:8080/"
        },
        "id": "ab4Jb-fGSNfp",
        "outputId": "9129043a-7fb8-4da7-8677-a0f400c8cb16"
      },
      "execution_count": 6,
      "outputs": [
        {
          "output_type": "stream",
          "name": "stdout",
          "text": [
            "[[494   0]\n",
            " [ 73  33]]\n",
            "              precision    recall  f1-score   support\n",
            "\n",
            "           0       0.87      1.00      0.93       494\n",
            "           1       1.00      0.31      0.47       106\n",
            "\n",
            "    accuracy                           0.88       600\n",
            "   macro avg       0.94      0.66      0.70       600\n",
            "weighted avg       0.89      0.88      0.85       600\n",
            "\n"
          ]
        }
      ]
    },
    {
      "cell_type": "markdown",
      "source": [
        "Explanation:\n",
        "\n",
        "\n",
        "Train-test split:\n",
        " Divides the data into training and testing sets.\n",
        "\n",
        "Logistic Regression:\n",
        " A simple, interpretable classification algorithm used as a baseline.\n",
        "\n",
        "Evaluation:\n",
        " confusion_matrix and classification_report provide detailed metrics on model performance."
      ],
      "metadata": {
        "id": "pUnKOfjbU5Pn"
      }
    },
    {
      "cell_type": "markdown",
      "source": [
        "Model with Resampling Techniques\n",
        "\n",
        "Objective:\n",
        " Train and evaluate a model on a balanced dataset created using resampling techniques."
      ],
      "metadata": {
        "id": "bMyKKM80Spyo"
      }
    },
    {
      "cell_type": "code",
      "source": [
        "# Use the resampled data from previous steps\n",
        "X_train_resampled, X_test_resampled, y_train_resampled, y_test_resampled = train_test_split(X_smote, y_smote, test_size=0.2, random_state=42)\n",
        "\n",
        "# Train model on resampled data\n",
        "model.fit(X_train_resampled, y_train_resampled)\n",
        "\n",
        "# Predict and evaluate\n",
        "y_pred_resampled = model.predict(X_test_resampled)\n",
        "print(confusion_matrix(y_test_resampled, y_pred_resampled))\n",
        "print(classification_report(y_test_resampled, y_pred_resampled))\n"
      ],
      "metadata": {
        "colab": {
          "base_uri": "https://localhost:8080/"
        },
        "id": "vnYC7fgWSr5L",
        "outputId": "6b2f0f4b-6693-4910-8875-afa98c39109f"
      },
      "execution_count": 7,
      "outputs": [
        {
          "output_type": "stream",
          "name": "stdout",
          "text": [
            "[[472   9]\n",
            " [ 30 449]]\n",
            "              precision    recall  f1-score   support\n",
            "\n",
            "           0       0.94      0.98      0.96       481\n",
            "           1       0.98      0.94      0.96       479\n",
            "\n",
            "    accuracy                           0.96       960\n",
            "   macro avg       0.96      0.96      0.96       960\n",
            "weighted avg       0.96      0.96      0.96       960\n",
            "\n"
          ]
        }
      ]
    },
    {
      "cell_type": "markdown",
      "source": [
        "Explanation:\n",
        "\n",
        "\n",
        "Train-test split on resampled data:\n",
        "\n",
        " Ensures that both training and testing sets are balanced.\n",
        "\n",
        "Training and evaluation:\n",
        "\n",
        " Same as the baseline model but on the balanced dataset to see if performance improves."
      ],
      "metadata": {
        "id": "bTIJAZdJVN0-"
      }
    }
  ]
}