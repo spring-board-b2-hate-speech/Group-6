{
  "nbformat": 4,
  "nbformat_minor": 0,
  "metadata": {
    "colab": {
      "provenance": []
    },
    "kernelspec": {
      "name": "python3",
      "display_name": "Python 3"
    },
    "language_info": {
      "name": "python"
    }
  },
  "cells": [
    {
      "cell_type": "markdown",
      "source": [
        "Import Necessary Libraries:"
      ],
      "metadata": {
        "id": "fEMRBr305Rqf"
      }
    },
    {
      "cell_type": "code",
      "execution_count": 23,
      "metadata": {
        "colab": {
          "base_uri": "https://localhost:8080/",
          "height": 241
        },
        "id": "lu1CVb9s5G1j",
        "outputId": "2edc3265-fd23-48fb-eb42-9d2714f94e7e"
      },
      "outputs": [
        {
          "output_type": "stream",
          "name": "stderr",
          "text": [
            "[nltk_data] Downloading package stopwords to /root/nltk_data...\n",
            "[nltk_data]   Package stopwords is already up-to-date!\n"
          ]
        },
        {
          "output_type": "execute_result",
          "data": {
            "text/plain": [
              "  Platform                                            Comment  Hateful\n",
              "0   Reddit  Damn I thought they had strict gun laws in Ger...        0\n",
              "1   Reddit  I dont care about what it stands for or anythi...        0\n",
              "2   Reddit                  It's not a group it's an idea lol        0\n",
              "3   Reddit                          So it's not just America!        0\n",
              "4   Reddit  The dog is a spectacular dancer considering he...        0"
            ],
            "text/html": [
              "\n",
              "  <div id=\"df-0b4c642a-66ed-4621-a74d-533731f10a00\" class=\"colab-df-container\">\n",
              "    <div>\n",
              "<style scoped>\n",
              "    .dataframe tbody tr th:only-of-type {\n",
              "        vertical-align: middle;\n",
              "    }\n",
              "\n",
              "    .dataframe tbody tr th {\n",
              "        vertical-align: top;\n",
              "    }\n",
              "\n",
              "    .dataframe thead th {\n",
              "        text-align: right;\n",
              "    }\n",
              "</style>\n",
              "<table border=\"1\" class=\"dataframe\">\n",
              "  <thead>\n",
              "    <tr style=\"text-align: right;\">\n",
              "      <th></th>\n",
              "      <th>Platform</th>\n",
              "      <th>Comment</th>\n",
              "      <th>Hateful</th>\n",
              "    </tr>\n",
              "  </thead>\n",
              "  <tbody>\n",
              "    <tr>\n",
              "      <th>0</th>\n",
              "      <td>Reddit</td>\n",
              "      <td>Damn I thought they had strict gun laws in Ger...</td>\n",
              "      <td>0</td>\n",
              "    </tr>\n",
              "    <tr>\n",
              "      <th>1</th>\n",
              "      <td>Reddit</td>\n",
              "      <td>I dont care about what it stands for or anythi...</td>\n",
              "      <td>0</td>\n",
              "    </tr>\n",
              "    <tr>\n",
              "      <th>2</th>\n",
              "      <td>Reddit</td>\n",
              "      <td>It's not a group it's an idea lol</td>\n",
              "      <td>0</td>\n",
              "    </tr>\n",
              "    <tr>\n",
              "      <th>3</th>\n",
              "      <td>Reddit</td>\n",
              "      <td>So it's not just America!</td>\n",
              "      <td>0</td>\n",
              "    </tr>\n",
              "    <tr>\n",
              "      <th>4</th>\n",
              "      <td>Reddit</td>\n",
              "      <td>The dog is a spectacular dancer considering he...</td>\n",
              "      <td>0</td>\n",
              "    </tr>\n",
              "  </tbody>\n",
              "</table>\n",
              "</div>\n",
              "    <div class=\"colab-df-buttons\">\n",
              "\n",
              "  <div class=\"colab-df-container\">\n",
              "    <button class=\"colab-df-convert\" onclick=\"convertToInteractive('df-0b4c642a-66ed-4621-a74d-533731f10a00')\"\n",
              "            title=\"Convert this dataframe to an interactive table.\"\n",
              "            style=\"display:none;\">\n",
              "\n",
              "  <svg xmlns=\"http://www.w3.org/2000/svg\" height=\"24px\" viewBox=\"0 -960 960 960\">\n",
              "    <path d=\"M120-120v-720h720v720H120Zm60-500h600v-160H180v160Zm220 220h160v-160H400v160Zm0 220h160v-160H400v160ZM180-400h160v-160H180v160Zm440 0h160v-160H620v160ZM180-180h160v-160H180v160Zm440 0h160v-160H620v160Z\"/>\n",
              "  </svg>\n",
              "    </button>\n",
              "\n",
              "  <style>\n",
              "    .colab-df-container {\n",
              "      display:flex;\n",
              "      gap: 12px;\n",
              "    }\n",
              "\n",
              "    .colab-df-convert {\n",
              "      background-color: #E8F0FE;\n",
              "      border: none;\n",
              "      border-radius: 50%;\n",
              "      cursor: pointer;\n",
              "      display: none;\n",
              "      fill: #1967D2;\n",
              "      height: 32px;\n",
              "      padding: 0 0 0 0;\n",
              "      width: 32px;\n",
              "    }\n",
              "\n",
              "    .colab-df-convert:hover {\n",
              "      background-color: #E2EBFA;\n",
              "      box-shadow: 0px 1px 2px rgba(60, 64, 67, 0.3), 0px 1px 3px 1px rgba(60, 64, 67, 0.15);\n",
              "      fill: #174EA6;\n",
              "    }\n",
              "\n",
              "    .colab-df-buttons div {\n",
              "      margin-bottom: 4px;\n",
              "    }\n",
              "\n",
              "    [theme=dark] .colab-df-convert {\n",
              "      background-color: #3B4455;\n",
              "      fill: #D2E3FC;\n",
              "    }\n",
              "\n",
              "    [theme=dark] .colab-df-convert:hover {\n",
              "      background-color: #434B5C;\n",
              "      box-shadow: 0px 1px 3px 1px rgba(0, 0, 0, 0.15);\n",
              "      filter: drop-shadow(0px 1px 2px rgba(0, 0, 0, 0.3));\n",
              "      fill: #FFFFFF;\n",
              "    }\n",
              "  </style>\n",
              "\n",
              "    <script>\n",
              "      const buttonEl =\n",
              "        document.querySelector('#df-0b4c642a-66ed-4621-a74d-533731f10a00 button.colab-df-convert');\n",
              "      buttonEl.style.display =\n",
              "        google.colab.kernel.accessAllowed ? 'block' : 'none';\n",
              "\n",
              "      async function convertToInteractive(key) {\n",
              "        const element = document.querySelector('#df-0b4c642a-66ed-4621-a74d-533731f10a00');\n",
              "        const dataTable =\n",
              "          await google.colab.kernel.invokeFunction('convertToInteractive',\n",
              "                                                    [key], {});\n",
              "        if (!dataTable) return;\n",
              "\n",
              "        const docLinkHtml = 'Like what you see? Visit the ' +\n",
              "          '<a target=\"_blank\" href=https://colab.research.google.com/notebooks/data_table.ipynb>data table notebook</a>'\n",
              "          + ' to learn more about interactive tables.';\n",
              "        element.innerHTML = '';\n",
              "        dataTable['output_type'] = 'display_data';\n",
              "        await google.colab.output.renderOutput(dataTable, element);\n",
              "        const docLink = document.createElement('div');\n",
              "        docLink.innerHTML = docLinkHtml;\n",
              "        element.appendChild(docLink);\n",
              "      }\n",
              "    </script>\n",
              "  </div>\n",
              "\n",
              "\n",
              "<div id=\"df-47f0d0c4-c15e-4ce9-87a3-78a087452739\">\n",
              "  <button class=\"colab-df-quickchart\" onclick=\"quickchart('df-47f0d0c4-c15e-4ce9-87a3-78a087452739')\"\n",
              "            title=\"Suggest charts\"\n",
              "            style=\"display:none;\">\n",
              "\n",
              "<svg xmlns=\"http://www.w3.org/2000/svg\" height=\"24px\"viewBox=\"0 0 24 24\"\n",
              "     width=\"24px\">\n",
              "    <g>\n",
              "        <path d=\"M19 3H5c-1.1 0-2 .9-2 2v14c0 1.1.9 2 2 2h14c1.1 0 2-.9 2-2V5c0-1.1-.9-2-2-2zM9 17H7v-7h2v7zm4 0h-2V7h2v10zm4 0h-2v-4h2v4z\"/>\n",
              "    </g>\n",
              "</svg>\n",
              "  </button>\n",
              "\n",
              "<style>\n",
              "  .colab-df-quickchart {\n",
              "      --bg-color: #E8F0FE;\n",
              "      --fill-color: #1967D2;\n",
              "      --hover-bg-color: #E2EBFA;\n",
              "      --hover-fill-color: #174EA6;\n",
              "      --disabled-fill-color: #AAA;\n",
              "      --disabled-bg-color: #DDD;\n",
              "  }\n",
              "\n",
              "  [theme=dark] .colab-df-quickchart {\n",
              "      --bg-color: #3B4455;\n",
              "      --fill-color: #D2E3FC;\n",
              "      --hover-bg-color: #434B5C;\n",
              "      --hover-fill-color: #FFFFFF;\n",
              "      --disabled-bg-color: #3B4455;\n",
              "      --disabled-fill-color: #666;\n",
              "  }\n",
              "\n",
              "  .colab-df-quickchart {\n",
              "    background-color: var(--bg-color);\n",
              "    border: none;\n",
              "    border-radius: 50%;\n",
              "    cursor: pointer;\n",
              "    display: none;\n",
              "    fill: var(--fill-color);\n",
              "    height: 32px;\n",
              "    padding: 0;\n",
              "    width: 32px;\n",
              "  }\n",
              "\n",
              "  .colab-df-quickchart:hover {\n",
              "    background-color: var(--hover-bg-color);\n",
              "    box-shadow: 0 1px 2px rgba(60, 64, 67, 0.3), 0 1px 3px 1px rgba(60, 64, 67, 0.15);\n",
              "    fill: var(--button-hover-fill-color);\n",
              "  }\n",
              "\n",
              "  .colab-df-quickchart-complete:disabled,\n",
              "  .colab-df-quickchart-complete:disabled:hover {\n",
              "    background-color: var(--disabled-bg-color);\n",
              "    fill: var(--disabled-fill-color);\n",
              "    box-shadow: none;\n",
              "  }\n",
              "\n",
              "  .colab-df-spinner {\n",
              "    border: 2px solid var(--fill-color);\n",
              "    border-color: transparent;\n",
              "    border-bottom-color: var(--fill-color);\n",
              "    animation:\n",
              "      spin 1s steps(1) infinite;\n",
              "  }\n",
              "\n",
              "  @keyframes spin {\n",
              "    0% {\n",
              "      border-color: transparent;\n",
              "      border-bottom-color: var(--fill-color);\n",
              "      border-left-color: var(--fill-color);\n",
              "    }\n",
              "    20% {\n",
              "      border-color: transparent;\n",
              "      border-left-color: var(--fill-color);\n",
              "      border-top-color: var(--fill-color);\n",
              "    }\n",
              "    30% {\n",
              "      border-color: transparent;\n",
              "      border-left-color: var(--fill-color);\n",
              "      border-top-color: var(--fill-color);\n",
              "      border-right-color: var(--fill-color);\n",
              "    }\n",
              "    40% {\n",
              "      border-color: transparent;\n",
              "      border-right-color: var(--fill-color);\n",
              "      border-top-color: var(--fill-color);\n",
              "    }\n",
              "    60% {\n",
              "      border-color: transparent;\n",
              "      border-right-color: var(--fill-color);\n",
              "    }\n",
              "    80% {\n",
              "      border-color: transparent;\n",
              "      border-right-color: var(--fill-color);\n",
              "      border-bottom-color: var(--fill-color);\n",
              "    }\n",
              "    90% {\n",
              "      border-color: transparent;\n",
              "      border-bottom-color: var(--fill-color);\n",
              "    }\n",
              "  }\n",
              "</style>\n",
              "\n",
              "  <script>\n",
              "    async function quickchart(key) {\n",
              "      const quickchartButtonEl =\n",
              "        document.querySelector('#' + key + ' button');\n",
              "      quickchartButtonEl.disabled = true;  // To prevent multiple clicks.\n",
              "      quickchartButtonEl.classList.add('colab-df-spinner');\n",
              "      try {\n",
              "        const charts = await google.colab.kernel.invokeFunction(\n",
              "            'suggestCharts', [key], {});\n",
              "      } catch (error) {\n",
              "        console.error('Error during call to suggestCharts:', error);\n",
              "      }\n",
              "      quickchartButtonEl.classList.remove('colab-df-spinner');\n",
              "      quickchartButtonEl.classList.add('colab-df-quickchart-complete');\n",
              "    }\n",
              "    (() => {\n",
              "      let quickchartButtonEl =\n",
              "        document.querySelector('#df-47f0d0c4-c15e-4ce9-87a3-78a087452739 button');\n",
              "      quickchartButtonEl.style.display =\n",
              "        google.colab.kernel.accessAllowed ? 'block' : 'none';\n",
              "    })();\n",
              "  </script>\n",
              "</div>\n",
              "\n",
              "    </div>\n",
              "  </div>\n"
            ],
            "application/vnd.google.colaboratory.intrinsic+json": {
              "type": "dataframe",
              "variable_name": "df",
              "summary": "{\n  \"name\": \"df\",\n  \"rows\": 3000,\n  \"fields\": [\n    {\n      \"column\": \"Platform\",\n      \"properties\": {\n        \"dtype\": \"category\",\n        \"num_unique_values\": 3,\n        \"samples\": [\n          \"Reddit\",\n          \"Twitter\",\n          \"4Chan\"\n        ],\n        \"semantic_type\": \"\",\n        \"description\": \"\"\n      }\n    },\n    {\n      \"column\": \"Comment\",\n      \"properties\": {\n        \"dtype\": \"string\",\n        \"num_unique_values\": 2998,\n        \"samples\": [\n          \"If you could or heard his laugh when you replied that!\",\n          \"haha yes that man who trained so hard and worked so hard that he won the race just happened to let himself celebrate his achievement a little too soon, so suddenly he's all about ego and has zero determination.\",\n          \"If anyone looks like a monkey it's that ugly cunt!\"\n        ],\n        \"semantic_type\": \"\",\n        \"description\": \"\"\n      }\n    },\n    {\n      \"column\": \"Hateful\",\n      \"properties\": {\n        \"dtype\": \"number\",\n        \"std\": 0,\n        \"min\": 0,\n        \"max\": 1,\n        \"num_unique_values\": 2,\n        \"samples\": [\n          1,\n          0\n        ],\n        \"semantic_type\": \"\",\n        \"description\": \"\"\n      }\n    }\n  ]\n}"
            }
          },
          "metadata": {},
          "execution_count": 23
        }
      ],
      "source": [
        "import pandas as pd\n",
        "import numpy as np\n",
        "from tensorflow.keras.preprocessing.text import Tokenizer\n",
        "from tensorflow.keras.preprocessing.sequence import pad_sequences\n",
        "from tensorflow.keras.models import Sequential\n",
        "from tensorflow.keras.layers import Embedding, Conv1D, MaxPooling1D, Dense, Dropout, Flatten\n",
        "from tensorflow.keras.optimizers import Adam\n",
        "from tensorflow.keras.callbacks import EarlyStopping\n",
        "from tensorflow.keras.regularizers import l2\n",
        "from sklearn.model_selection import train_test_split\n",
        "from sklearn.metrics import classification_report\n",
        "from imblearn.over_sampling import RandomOverSampler\n",
        "import nltk\n",
        "from nltk.corpus import stopwords\n",
        "import string\n",
        "from sklearn.metrics import confusion_matrix, classification_report\n",
        "import seaborn as sns\n",
        "import matplotlib.pyplot as plt\n",
        "\n",
        "# Download Stopwords\n",
        "nltk.download('stopwords')\n",
        "#Load the Dataset\n",
        "file_path = '/content/HateSpeechDetection (1).csv'\n",
        "df = pd.read_csv(file_path)\n",
        "df.head()\n"
      ]
    },
    {
      "cell_type": "markdown",
      "source": [
        "Data Preprocessing:"
      ],
      "metadata": {
        "id": "QNT3DuHf50jM"
      }
    },
    {
      "cell_type": "code",
      "source": [
        "\n",
        "# Data Preprocessing function\n",
        "def preprocess_text(text):\n",
        "    text = text.lower()\n",
        "    text = text.translate(str.maketrans('', '', string.punctuation))\n",
        "    stop_words = set(stopwords.words('english'))\n",
        "    text = ' '.join([word for word in text.split() if word not in stop_words])\n",
        "    return text\n",
        "\n",
        "\n",
        "# Apply the preprocessing function to the comments\n",
        "df['Comment'] = df['Comment'].apply(preprocess_text)\n",
        "print(\"Data preprocessing completed.\")\n",
        "print(df.head())\n"
      ],
      "metadata": {
        "colab": {
          "base_uri": "https://localhost:8080/"
        },
        "id": "h-faJVzi53hi",
        "outputId": "03802cd9-94c0-41ab-bd58-4155f3dee280"
      },
      "execution_count": 24,
      "outputs": [
        {
          "output_type": "stream",
          "name": "stdout",
          "text": [
            "Data preprocessing completed.\n",
            "  Platform                                           Comment  Hateful\n",
            "0   Reddit              damn thought strict gun laws germany        0\n",
            "1   Reddit  dont care stands anything connected like shields        0\n",
            "2   Reddit                                    group idea lol        0\n",
            "3   Reddit                                           america        0\n",
            "4   Reddit  dog spectacular dancer considering two left feet        0\n"
          ]
        }
      ]
    },
    {
      "cell_type": "markdown",
      "source": [
        "Tokenize and Pad Sequences:\n",
        "\n",
        "Splits data into features (X) and labels (y).\n",
        "\n",
        "Tokenizes the text data.\n",
        "\n",
        "Pads the sequences to a maximum length of 100."
      ],
      "metadata": {
        "id": "kht6Sxgc6RdK"
      }
    },
    {
      "cell_type": "code",
      "source": [
        "X = df['Comment']\n",
        "y = df['Hateful']\n",
        "\n",
        "tokenizer = Tokenizer()\n",
        "tokenizer.fit_on_texts(X)\n",
        "X_tokenized = tokenizer.texts_to_sequences(X)\n",
        "\n",
        "max_length = 100\n",
        "X_padded = pad_sequences(X_tokenized, maxlen=max_length, padding='post')\n",
        "print(\"Tokenization and padding completed.\")\n",
        "print(X_padded[:5])\n"
      ],
      "metadata": {
        "colab": {
          "base_uri": "https://localhost:8080/"
        },
        "id": "djc_ZRYP6ShU",
        "outputId": "da1ebc1d-cc78-4c11-f3ba-9e1bcf583509"
      },
      "execution_count": 25,
      "outputs": [
        {
          "output_type": "stream",
          "name": "stdout",
          "text": [
            "Tokenization and padding completed.\n",
            "[[ 190  148 2423 1488 1489  581    0    0    0    0    0    0    0    0\n",
            "     0    0    0    0    0    0    0    0    0    0    0    0    0    0\n",
            "     0    0    0    0    0    0    0    0    0    0    0    0    0    0\n",
            "     0    0    0    0    0    0    0    0    0    0    0    0    0    0\n",
            "     0    0    0    0    0    0    0    0    0    0    0    0    0    0\n",
            "     0    0    0    0    0    0    0    0    0    0    0    0    0    0\n",
            "     0    0    0    0    0    0    0    0    0    0    0    0    0    0\n",
            "     0    0]\n",
            " [   2   57 1071   93 1490    1 2424    0    0    0    0    0    0    0\n",
            "     0    0    0    0    0    0    0    0    0    0    0    0    0    0\n",
            "     0    0    0    0    0    0    0    0    0    0    0    0    0    0\n",
            "     0    0    0    0    0    0    0    0    0    0    0    0    0    0\n",
            "     0    0    0    0    0    0    0    0    0    0    0    0    0    0\n",
            "     0    0    0    0    0    0    0    0    0    0    0    0    0    0\n",
            "     0    0    0    0    0    0    0    0    0    0    0    0    0    0\n",
            "     0    0]\n",
            " [ 850  251   58    0    0    0    0    0    0    0    0    0    0    0\n",
            "     0    0    0    0    0    0    0    0    0    0    0    0    0    0\n",
            "     0    0    0    0    0    0    0    0    0    0    0    0    0    0\n",
            "     0    0    0    0    0    0    0    0    0    0    0    0    0    0\n",
            "     0    0    0    0    0    0    0    0    0    0    0    0    0    0\n",
            "     0    0    0    0    0    0    0    0    0    0    0    0    0    0\n",
            "     0    0    0    0    0    0    0    0    0    0    0    0    0    0\n",
            "     0    0]\n",
            " [ 176    0    0    0    0    0    0    0    0    0    0    0    0    0\n",
            "     0    0    0    0    0    0    0    0    0    0    0    0    0    0\n",
            "     0    0    0    0    0    0    0    0    0    0    0    0    0    0\n",
            "     0    0    0    0    0    0    0    0    0    0    0    0    0    0\n",
            "     0    0    0    0    0    0    0    0    0    0    0    0    0    0\n",
            "     0    0    0    0    0    0    0    0    0    0    0    0    0    0\n",
            "     0    0    0    0    0    0    0    0    0    0    0    0    0    0\n",
            "     0    0]\n",
            " [ 280 2425 2426  690  149  420  851    0    0    0    0    0    0    0\n",
            "     0    0    0    0    0    0    0    0    0    0    0    0    0    0\n",
            "     0    0    0    0    0    0    0    0    0    0    0    0    0    0\n",
            "     0    0    0    0    0    0    0    0    0    0    0    0    0    0\n",
            "     0    0    0    0    0    0    0    0    0    0    0    0    0    0\n",
            "     0    0    0    0    0    0    0    0    0    0    0    0    0    0\n",
            "     0    0    0    0    0    0    0    0    0    0    0    0    0    0\n",
            "     0    0]]\n"
          ]
        }
      ]
    },
    {
      "cell_type": "markdown",
      "source": [
        "Balance the Dataset:\n",
        "Uses RandomOverSampler to balance the dataset by oversampling the minority class to have 5000 samples per class.\n"
      ],
      "metadata": {
        "id": "f08FrumV6axV"
      }
    },
    {
      "cell_type": "code",
      "source": [
        "desired_samples_per_class = 5000\n",
        "sampling_strategy = {0: desired_samples_per_class, 1: desired_samples_per_class}\n",
        "\n",
        "ros = RandomOverSampler(sampling_strategy=sampling_strategy, random_state=42)\n",
        "X_resampled, y_resampled = ros.fit_resample(X_padded, y)\n",
        "print(\"Dataset balanced using RandomOverSampler.\")\n",
        "print(\"Class distribution after resampling:\")\n",
        "print(pd.Series(y_resampled).value_counts())\n"
      ],
      "metadata": {
        "colab": {
          "base_uri": "https://localhost:8080/"
        },
        "id": "wOP9krFk6dtq",
        "outputId": "fbc119a9-d6f0-4c04-ad4d-d03938cfd8c7"
      },
      "execution_count": 26,
      "outputs": [
        {
          "output_type": "stream",
          "name": "stdout",
          "text": [
            "Dataset balanced using RandomOverSampler.\n",
            "Class distribution after resampling:\n",
            "Hateful\n",
            "0    5000\n",
            "1    5000\n",
            "Name: count, dtype: int64\n"
          ]
        },
        {
          "output_type": "stream",
          "name": "stderr",
          "text": [
            "/usr/local/lib/python3.10/dist-packages/imblearn/utils/_validation.py:313: UserWarning: After over-sampling, the number of samples (5000) in class 0 will be larger than the number of samples in the majority class (class #0 -> 2400)\n",
            "  warnings.warn(\n",
            "/usr/local/lib/python3.10/dist-packages/imblearn/utils/_validation.py:313: UserWarning: After over-sampling, the number of samples (5000) in class 1 will be larger than the number of samples in the majority class (class #0 -> 2400)\n",
            "  warnings.warn(\n"
          ]
        }
      ]
    },
    {
      "cell_type": "markdown",
      "source": [
        "Split the Data:"
      ],
      "metadata": {
        "id": "7nou3zm46ngj"
      }
    },
    {
      "cell_type": "code",
      "source": [
        "X_train, X_test, y_train, y_test = train_test_split(X_resampled, y_resampled, test_size=0.2, random_state=42)\n",
        "print(\"Data split into training and testing sets.\")\n",
        "print(f\"Training set size: {len(X_train)}, Testing set size: {len(X_test)}\")\n"
      ],
      "metadata": {
        "colab": {
          "base_uri": "https://localhost:8080/"
        },
        "id": "njzP-eHf6omU",
        "outputId": "16c5b62f-4f6a-483f-ac38-ca5075a8e8f8"
      },
      "execution_count": 27,
      "outputs": [
        {
          "output_type": "stream",
          "name": "stdout",
          "text": [
            "Data split into training and testing sets.\n",
            "Training set size: 8000, Testing set size: 2000\n"
          ]
        }
      ]
    },
    {
      "cell_type": "markdown",
      "source": [
        "Define the Model:\n",
        "Defines a Sequential CNN model:\n",
        "\n",
        "Embedding layer converts words to dense vectors.\n",
        "\n",
        "Conv1D layer applies convolution operation.\n",
        "\n",
        "MaxPooling1D layer reduces the dimensionality.\n",
        "\n",
        "Flatten layer flattens the output.\n",
        "\n",
        "Dense layers are fully connected layers.\n",
        "\n",
        "Dropout layer prevents overfitting.\n",
        "\n",
        "sigmoid activation function is used for binary classification."
      ],
      "metadata": {
        "id": "dgB-giSM6u9u"
      }
    },
    {
      "cell_type": "code",
      "source": [
        "embedding_dim = 64  # Embedding dimension\n",
        "cnn_model = Sequential()\n",
        "cnn_model.add(Embedding(input_dim=len(tokenizer.word_index) + 1, output_dim=embedding_dim, input_length=max_length))\n",
        "cnn_model.add(Conv1D(filters=16, kernel_size=5, activation='relu'))\n",
        "cnn_model.add(MaxPooling1D(pool_size=2))\n",
        "cnn_model.add(Flatten())\n",
        "cnn_model.add(Dense(64, activation='relu', kernel_regularizer=l2(0.01)))\n",
        "cnn_model.add(Dropout(0.8))\n",
        "cnn_model.add(Dense(1, activation='sigmoid'))\n",
        "print(\"Model defined successfully.\")\n",
        "cnn_model.summary()\n"
      ],
      "metadata": {
        "colab": {
          "base_uri": "https://localhost:8080/"
        },
        "id": "DCPJoxq_6wM5",
        "outputId": "e66081a7-d941-4902-ed9a-760309c6fdee"
      },
      "execution_count": 40,
      "outputs": [
        {
          "output_type": "stream",
          "name": "stdout",
          "text": [
            "Model defined successfully.\n",
            "Model: \"sequential_11\"\n",
            "_________________________________________________________________\n",
            " Layer (type)                Output Shape              Param #   \n",
            "=================================================================\n",
            " embedding_11 (Embedding)    (None, 100, 64)           396352    \n",
            "                                                                 \n",
            " conv1d_11 (Conv1D)          (None, 96, 16)            5136      \n",
            "                                                                 \n",
            " max_pooling1d_11 (MaxPooli  (None, 48, 16)            0         \n",
            " ng1D)                                                           \n",
            "                                                                 \n",
            " flatten_11 (Flatten)        (None, 768)               0         \n",
            "                                                                 \n",
            " dense_22 (Dense)            (None, 64)                49216     \n",
            "                                                                 \n",
            " dropout_11 (Dropout)        (None, 64)                0         \n",
            "                                                                 \n",
            " dense_23 (Dense)            (None, 1)                 65        \n",
            "                                                                 \n",
            "=================================================================\n",
            "Total params: 450769 (1.72 MB)\n",
            "Trainable params: 450769 (1.72 MB)\n",
            "Non-trainable params: 0 (0.00 Byte)\n",
            "_________________________________________________________________\n"
          ]
        }
      ]
    },
    {
      "cell_type": "markdown",
      "source": [
        "Compile the Model:\n",
        "Compiles the model using binary_crossentropy loss and Adam optimizer with a learning rate of 0.0001."
      ],
      "metadata": {
        "id": "ovh23DY168E6"
      }
    },
    {
      "cell_type": "code",
      "source": [
        "optimizer = Adam(learning_rate=0.0001)\n",
        "cnn_model.compile(loss='binary_crossentropy', optimizer=optimizer, metrics=['accuracy'])\n"
      ],
      "metadata": {
        "id": "etrD-Cry6_DZ"
      },
      "execution_count": 41,
      "outputs": []
    },
    {
      "cell_type": "markdown",
      "source": [
        "Training the Model:\n",
        "Defines early stopping to prevent overfitting.\n",
        "\n",
        "Trains the model for 5 epochs with a batch size of 64, using 20% of the training data for validation."
      ],
      "metadata": {
        "id": "FxZZFyY27BP7"
      }
    },
    {
      "cell_type": "code",
      "source": [
        "early_stopping = EarlyStopping(monitor='val_loss', patience=1, restore_best_weights=True)\n",
        "\n",
        "cnn_history = cnn_model.fit(X_train, y_train, epochs=8, batch_size=64, validation_split=0.2, verbose=1, callbacks=[early_stopping])\n"
      ],
      "metadata": {
        "colab": {
          "base_uri": "https://localhost:8080/"
        },
        "id": "anTOux6F7LeG",
        "outputId": "3cbd28e0-7b6d-4ed8-9123-e5c1bce32745"
      },
      "execution_count": 42,
      "outputs": [
        {
          "output_type": "stream",
          "name": "stdout",
          "text": [
            "Epoch 1/8\n",
            "100/100 [==============================] - 3s 26ms/step - loss: 1.7000 - accuracy: 0.5044 - val_loss: 1.5340 - val_accuracy: 0.5550\n",
            "Epoch 2/8\n",
            "100/100 [==============================] - 3s 34ms/step - loss: 1.4032 - accuracy: 0.5294 - val_loss: 1.2825 - val_accuracy: 0.6544\n",
            "Epoch 3/8\n",
            "100/100 [==============================] - 3s 32ms/step - loss: 1.1870 - accuracy: 0.5684 - val_loss: 1.1000 - val_accuracy: 0.7056\n",
            "Epoch 4/8\n",
            "100/100 [==============================] - 3s 29ms/step - loss: 1.0295 - accuracy: 0.6108 - val_loss: 0.9664 - val_accuracy: 0.7600\n",
            "Epoch 5/8\n",
            "100/100 [==============================] - 2s 25ms/step - loss: 0.9135 - accuracy: 0.6742 - val_loss: 0.8635 - val_accuracy: 0.8238\n",
            "Epoch 6/8\n",
            "100/100 [==============================] - 3s 27ms/step - loss: 0.8131 - accuracy: 0.7644 - val_loss: 0.7624 - val_accuracy: 0.8763\n",
            "Epoch 7/8\n",
            "100/100 [==============================] - 4s 42ms/step - loss: 0.6987 - accuracy: 0.8441 - val_loss: 0.6210 - val_accuracy: 0.9119\n",
            "Epoch 8/8\n",
            "100/100 [==============================] - 4s 37ms/step - loss: 0.5417 - accuracy: 0.9000 - val_loss: 0.4423 - val_accuracy: 0.9712\n"
          ]
        }
      ]
    },
    {
      "cell_type": "markdown",
      "source": [
        "Evaluate the Model:\n",
        "Evaluates the model on the test set.\n",
        "\n",
        "Generates predictions and prints a classification report also print confusion matrix."
      ],
      "metadata": {
        "id": "46h1c8LL7PEs"
      }
    },
    {
      "cell_type": "code",
      "source": [
        "cnn_loss, cnn_accuracy = cnn_model.evaluate(X_test, y_test)\n",
        "print(f'Test Accuracy: {cnn_accuracy}')\n",
        "\n",
        "\n",
        "y_pred = (cnn_model.predict(X_test) > 0.5).astype(\"int32\")\n",
        "print(classification_report(y_test, y_pred))\n",
        "\n",
        "# Compute confusion matrix\n",
        "cm = confusion_matrix(y_test, y_pred)\n",
        "# Plot confusion matrix\n",
        "plt.figure(figsize=(8, 6))\n",
        "sns.heatmap(cm, annot=True, fmt='d', cmap='Blues', cbar=False,\n",
        "            xticklabels=['Non-Hateful', 'Hateful'], yticklabels=['Non-Hateful', 'Hateful'])\n",
        "plt.xlabel('Predicted Labels')\n",
        "plt.ylabel('True Labels')\n",
        "plt.title('Confusion Matrix')\n",
        "plt.show()\n"
      ],
      "metadata": {
        "colab": {
          "base_uri": "https://localhost:8080/",
          "height": 772
        },
        "id": "o6jzTU8Y77f0",
        "outputId": "a076a452-2db2-4452-8a99-8aa2fc00e7eb"
      },
      "execution_count": 43,
      "outputs": [
        {
          "output_type": "stream",
          "name": "stdout",
          "text": [
            "63/63 [==============================] - 1s 5ms/step - loss: 0.4438 - accuracy: 0.9700\n",
            "Test Accuracy: 0.9700000286102295\n",
            "63/63 [==============================] - 0s 4ms/step\n",
            "              precision    recall  f1-score   support\n",
            "\n",
            "           0       0.96      0.98      0.97      1001\n",
            "           1       0.98      0.96      0.97       999\n",
            "\n",
            "    accuracy                           0.97      2000\n",
            "   macro avg       0.97      0.97      0.97      2000\n",
            "weighted avg       0.97      0.97      0.97      2000\n",
            "\n"
          ]
        },
        {
          "output_type": "display_data",
          "data": {
            "text/plain": [
              "<Figure size 800x600 with 1 Axes>"
            ],
            "image/png": "[encoded data removed]"
          },
          "metadata": {}
        }
      ]
    },
    {
      "cell_type": "markdown",
      "source": [
        "Modifying the Number of Neurons\n",
        "\n",
        "To modify the number of neurons, let's change the Dense layer in the model definition and retrain the model:\n",
        "\n"
      ],
      "metadata": {
        "id": "zHbJHJEK7l2H"
      }
    },
    {
      "cell_type": "code",
      "source": [
        "# Define the CNN model with different number of neurons\n",
        "\n",
        "embedding_dim = 32\n",
        "cnn_model = Sequential()\n",
        "cnn_model.add(Embedding(input_dim=len(tokenizer.word_index) + 1, output_dim=embedding_dim, input_length=max_length))\n",
        "cnn_model.add(Conv1D(filters=8, kernel_size=5, activation='relu'))\n",
        "cnn_model.add(MaxPooling1D(pool_size=2))\n",
        "cnn_model.add(Flatten())\n",
        "cnn_model.add(Dense(16, activation='relu', kernel_regularizer=l2(0.01)))\n",
        "cnn_model.add(Dropout(0.5))\n",
        "cnn_model.add(Dense(1, activation='sigmoid'))\n",
        "cnn_model.compile(loss='binary_crossentropy', optimizer=Adam(learning_rate=0.0001), metrics=['accuracy'])\n",
        "\n",
        "\n",
        "optimizer = Adam(learning_rate=0.0001)\n",
        "cnn_model.compile(loss='binary_crossentropy', optimizer=optimizer, metrics=['accuracy'])\n",
        "\n",
        "early_stopping = EarlyStopping(monitor='val_loss', patience=1, restore_best_weights=True)\n",
        "cnn_history = cnn_model.fit(X_train, y_train, epochs=10, batch_size=64, validation_split=0.2, verbose=1, callbacks=[early_stopping])\n",
        "\n",
        "cnn_loss, cnn_accuracy = cnn_model.evaluate(X_test, y_test)\n",
        "print(f'Test Accuracy: {cnn_accuracy}')\n",
        "\n",
        "y_pred = (cnn_model.predict(X_test) > 0.5).astype(\"int32\")\n",
        "print(classification_report(y_test, y_pred))\n",
        "# Compute confusion matrix\n",
        "cm = confusion_matrix(y_test, y_pred)\n",
        "# Plot confusion matrix\n",
        "plt.figure(figsize=(8, 6))\n",
        "sns.heatmap(cm, annot=True, fmt='d', cmap='Blues', cbar=False,\n",
        "            xticklabels=['Non-Hateful', 'Hateful'], yticklabels=['Non-Hateful', 'Hateful'])\n",
        "plt.xlabel('Predicted Labels')\n",
        "plt.ylabel('True Labels')\n",
        "plt.title('Confusion Matrix')\n",
        "plt.show()\n"
      ],
      "metadata": {
        "colab": {
          "base_uri": "https://localhost:8080/",
          "height": 1000
        },
        "id": "P9eE13GO7g7m",
        "outputId": "9620c027-5124-41ef-dbd3-ee92d3c397c0"
      },
      "execution_count": 44,
      "outputs": [
        {
          "output_type": "stream",
          "name": "stdout",
          "text": [
            "Epoch 1/10\n",
            "100/100 [==============================] - 4s 25ms/step - loss: 0.9642 - accuracy: 0.5022 - val_loss: 0.9322 - val_accuracy: 0.5206\n",
            "Epoch 2/10\n",
            "100/100 [==============================] - 3s 29ms/step - loss: 0.9053 - accuracy: 0.5437 - val_loss: 0.8798 - val_accuracy: 0.5094\n",
            "Epoch 3/10\n",
            "100/100 [==============================] - 3s 27ms/step - loss: 0.8574 - accuracy: 0.5875 - val_loss: 0.8366 - val_accuracy: 0.5312\n",
            "Epoch 4/10\n",
            "100/100 [==============================] - 2s 20ms/step - loss: 0.8166 - accuracy: 0.6161 - val_loss: 0.7988 - val_accuracy: 0.5525\n",
            "Epoch 5/10\n",
            "100/100 [==============================] - 1s 13ms/step - loss: 0.7777 - accuracy: 0.6989 - val_loss: 0.7590 - val_accuracy: 0.8400\n",
            "Epoch 6/10\n",
            "100/100 [==============================] - 1s 14ms/step - loss: 0.7317 - accuracy: 0.8114 - val_loss: 0.7047 - val_accuracy: 0.9206\n",
            "Epoch 7/10\n",
            "100/100 [==============================] - 1s 14ms/step - loss: 0.6609 - accuracy: 0.8669 - val_loss: 0.6164 - val_accuracy: 0.9469\n",
            "Epoch 8/10\n",
            "100/100 [==============================] - 2s 16ms/step - loss: 0.5602 - accuracy: 0.8936 - val_loss: 0.4999 - val_accuracy: 0.9588\n",
            "Epoch 9/10\n",
            "100/100 [==============================] - 2s 23ms/step - loss: 0.4577 - accuracy: 0.9134 - val_loss: 0.3932 - val_accuracy: 0.9700\n",
            "Epoch 10/10\n",
            "100/100 [==============================] - 3s 25ms/step - loss: 0.3711 - accuracy: 0.9291 - val_loss: 0.3135 - val_accuracy: 0.9781\n",
            "63/63 [==============================] - 1s 5ms/step - loss: 0.3185 - accuracy: 0.9750\n",
            "Test Accuracy: 0.9750000238418579\n",
            "63/63 [==============================] - 0s 2ms/step\n",
            "              precision    recall  f1-score   support\n",
            "\n",
            "           0       0.98      0.97      0.97      1001\n",
            "           1       0.97      0.98      0.97       999\n",
            "\n",
            "    accuracy                           0.97      2000\n",
            "   macro avg       0.98      0.98      0.97      2000\n",
            "weighted avg       0.98      0.97      0.97      2000\n",
            "\n"
          ]
        },
        {
          "output_type": "display_data",
          "data": {
            "text/plain": [
              "<Figure size 800x600 with 1 Axes>"
            ],
            "image/png": "[encoded data removed]"
          },
          "metadata": {}
        }
      ]
    },
    {
      "cell_type": "code",
      "source": [
        "# Function to preprocess user input\n",
        "def preprocess_user_input(text):\n",
        "    text = text.lower()\n",
        "    text = text.translate(str.maketrans('', '', string.punctuation))\n",
        "    stop_words = set(stopwords.words('english'))\n",
        "    text = ' '.join([word for word in text.split() if word not in stop_words])\n",
        "    text_tokenized = tokenizer.texts_to_sequences([text])\n",
        "    text_padded = pad_sequences(text_tokenized, maxlen=max_length, padding='post')\n",
        "    return text_padded\n",
        "\n",
        "# Function to predict hate speech\n",
        "def predict_hate_speech(text):\n",
        "    processed_text = preprocess_user_input(text)\n",
        "    prediction = (cnn_model.predict(processed_text) > 0.5).astype(\"int32\")\n",
        "    return \"Hateful\" if prediction[0][0] == 1 else \"Non-Hateful\"\n",
        "\n",
        "# Sample inputs\n",
        "texts = [\n",
        "    \"I hope you have a great day!\",  # Non-hateful\n",
        "    \"Your presentation was really impressive!\",  # Non-hateful\n",
        "    \"Shut up, nobody cares about your stupid opinions!\",  # Hateful\n",
        "    \"You're a complete waste of space!\",  # Hateful\n",
        "]\n",
        "\n",
        "# Predict and print results\n",
        "for text in texts:\n",
        "    result = predict_hate_speech(text)\n",
        "    print(f\"Text: {text}\\nPrediction: {result}\\n\")"
      ],
      "metadata": {
        "colab": {
          "base_uri": "https://localhost:8080/"
        },
        "id": "jvaiWRenYQrl",
        "outputId": "b22d0ed8-fefb-4490-e9a9-23242bda7e38"
      },
      "execution_count": 47,
      "outputs": [
        {
          "output_type": "stream",
          "name": "stdout",
          "text": [
            "1/1 [==============================] - 0s 79ms/step\n",
            "Text: I hope you have a great day!\n",
            "Prediction: Non-Hateful\n",
            "\n",
            "1/1 [==============================] - 0s 46ms/step\n",
            "Text: Your presentation was really impressive!\n",
            "Prediction: Non-Hateful\n",
            "\n",
            "1/1 [==============================] - 0s 65ms/step\n",
            "Text: Shut up, nobody cares about your stupid opinions!\n",
            "Prediction: Hateful\n",
            "\n",
            "1/1 [==============================] - 0s 52ms/step\n",
            "Text: You're a complete waste of space!\n",
            "Prediction: Hateful\n",
            "\n"
          ]
        }
      ]
    }
  ]
}