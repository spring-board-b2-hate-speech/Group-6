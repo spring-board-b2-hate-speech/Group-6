{
  "nbformat": 4,
  "nbformat_minor": 0,
  "metadata": {
    "colab": {
      "provenance": []
    },
    "kernelspec": {
      "name": "python3",
      "display_name": "Python 3"
    },
    "language_info": {
      "name": "python"
    }
  },
  "cells": [
    {
      "cell_type": "markdown",
      "source": [
        "Importing Libraries and Loading the Dataset:"
      ],
      "metadata": {
        "id": "gufKmhudAeJ5"
      }
    },
    {
      "cell_type": "code",
      "source": [
        "import pandas as pd\n",
        "from sklearn.model_selection import train_test_split, GridSearchCV\n",
        "from sklearn.feature_extraction.text import TfidfVectorizer\n",
        "from sklearn.linear_model import LogisticRegression\n",
        "from sklearn.svm import SVC\n",
        "from sklearn.ensemble import RandomForestClassifier\n",
        "from sklearn.metrics import accuracy_score, classification_report\n",
        "import nltk\n",
        "from nltk.corpus import stopwords\n",
        "import string\n",
        "\n",
        "# Download stopwords\n",
        "nltk.download('stopwords')\n",
        "\n",
        "# Load the dataset\n",
        "file_path = '/content/HateSpeechDetection (Balanced dataset).csv'  # Update the file path\n",
        "df = pd.read_csv(file_path)\n",
        "\n",
        "# Display the first few rows of the dataframe\n",
        "print(df.head())\n"
      ],
      "metadata": {
        "colab": {
          "base_uri": "https://localhost:8080/"
        },
        "id": "TZ3pC1EQAikB",
        "outputId": "bc519136-66af-4545-faaa-083903b2b27e"
      },
      "execution_count": null,
      "outputs": [
        {
          "output_type": "stream",
          "name": "stdout",
          "text": [
            "  Platform                                            Comment  Hateful\n",
            "0   Reddit  Damn I thought they had strict gun laws in Ger...        0\n",
            "1   Reddit  I dont care about what it stands for or anythi...        0\n",
            "2   Reddit                  It's not a group it's an idea lol        0\n",
            "3   Reddit                          So it's not just America!        0\n",
            "4   Reddit  The dog is a spectacular dancer considering he...        0\n"
          ]
        },
        {
          "output_type": "stream",
          "name": "stderr",
          "text": [
            "[nltk_data] Downloading package stopwords to /root/nltk_data...\n",
            "[nltk_data]   Unzipping corpora/stopwords.zip.\n"
          ]
        }
      ]
    },
    {
      "cell_type": "markdown",
      "source": [
        "Data Preprocessing\n",
        "\n",
        "Preprocess the text data by removing punctuation, converting to lowercase, and removing stopwords."
      ],
      "metadata": {
        "id": "aCcwEYlTA0rd"
      }
    },
    {
      "cell_type": "code",
      "source": [
        "def preprocess_text(text):\n",
        "    # Convert to lowercase\n",
        "    text = text.lower()\n",
        "    # Remove punctuation\n",
        "    text = text.translate(str.maketrans('', '', string.punctuation))\n",
        "    # Remove stopwords\n",
        "    stop_words = set(stopwords.words('english'))\n",
        "    text = ' '.join([word for word in text.split() if word not in stop_words])\n",
        "    return text\n",
        "\n",
        "# Apply the preprocessing function to the comments\n",
        "df['Comment'] = df['Comment'].apply(preprocess_text)\n",
        "\n",
        "# Display the first few rows of the preprocessed dataframe\n",
        "print(df.head())\n"
      ],
      "metadata": {
        "colab": {
          "base_uri": "https://localhost:8080/"
        },
        "id": "s7wjGOMLA7No",
        "outputId": "3d1358ee-0e44-4293-ec19-5dd0044a05a9"
      },
      "execution_count": null,
      "outputs": [
        {
          "output_type": "stream",
          "name": "stdout",
          "text": [
            "  Platform                                           Comment  Hateful\n",
            "0   Reddit              damn thought strict gun laws germany        0\n",
            "1   Reddit  dont care stands anything connected like shields        0\n",
            "2   Reddit                                    group idea lol        0\n",
            "3   Reddit                                           america        0\n",
            "4   Reddit  dog spectacular dancer considering two left feet        0\n"
          ]
        }
      ]
    },
    {
      "cell_type": "markdown",
      "source": [
        " Splitting the Data:\n",
        "\n",
        "Split the dataset into training and testing sets.\n",
        "\n"
      ],
      "metadata": {
        "id": "jdL2YXSYBGzB"
      }
    },
    {
      "cell_type": "code",
      "source": [
        "# Split the data into features and labels\n",
        "X = df['Comment']\n",
        "y = df['Hateful']\n",
        "\n",
        "# Split the data into training and testing sets\n",
        "X_train, X_test, y_train, y_test = train_test_split(X, y, test_size=0.2, random_state=42)\n",
        "\n",
        "print(f'Training samples: {len(X_train)}')\n",
        "print(f'Testing samples: {len(X_test)}')\n"
      ],
      "metadata": {
        "colab": {
          "base_uri": "https://localhost:8080/"
        },
        "id": "jjrToTupBLgh",
        "outputId": "25704bd5-dea4-4438-ff7c-21787c0d086c"
      },
      "execution_count": null,
      "outputs": [
        {
          "output_type": "stream",
          "name": "stdout",
          "text": [
            "Training samples: 2400\n",
            "Testing samples: 600\n"
          ]
        }
      ]
    },
    {
      "cell_type": "markdown",
      "source": [
        " Vectorizing the Text Data:\n",
        " Convert the text data into numerical data using TF-IDF vectorization"
      ],
      "metadata": {
        "id": "tYsSoDwzBYFX"
      }
    },
    {
      "cell_type": "code",
      "source": [
        "# Vectorize the text data\n",
        "vectorizer = TfidfVectorizer(max_features=5000)\n",
        "X_train_vec = vectorizer.fit_transform(X_train)\n",
        "X_test_vec = vectorizer.transform(X_test)\n"
      ],
      "metadata": {
        "id": "8Syej0F9BaIH"
      },
      "execution_count": null,
      "outputs": []
    },
    {
      "cell_type": "markdown",
      "source": [
        " Training and Evaluating Different Models:\n",
        "\n",
        " Train and evaluate different machine learning models: Logistic Regression, Support Vector Machine, and Random Forest. Including hyperparameter tuning using GridSearchCV."
      ],
      "metadata": {
        "id": "az1ECvdEBk3c"
      }
    },
    {
      "cell_type": "markdown",
      "source": [
        "Logistic Regression:\n"
      ],
      "metadata": {
        "id": "2vziPZBGI-Fa"
      }
    },
    {
      "cell_type": "code",
      "source": [
        "# Define the model and hyperparameters\n",
        "lr_model = LogisticRegression()\n",
        "lr_params = {'C': [0.01, 0.1, 1, 10, 100]}\n",
        "\n",
        "# Perform grid search\n",
        "lr_grid = GridSearchCV(lr_model, lr_params, cv=5, scoring='accuracy')\n",
        "lr_grid.fit(X_train_vec, y_train)\n",
        "\n",
        "# Make predictions\n",
        "lr_predictions = lr_grid.predict(X_test_vec)\n",
        "\n",
        "# Evaluate the model\n",
        "lr_accuracy = accuracy_score(y_test, lr_predictions)\n",
        "print('Logistic Regression Accuracy:', lr_accuracy)\n",
        "print('Best Parameters:', lr_grid.best_params_)\n",
        "print(classification_report(y_test, lr_predictions))\n"
      ],
      "metadata": {
        "colab": {
          "base_uri": "https://localhost:8080/"
        },
        "id": "xIkNRrjfJHcU",
        "outputId": "8b13652d-40bb-4204-e440-d53973610ef0"
      },
      "execution_count": null,
      "outputs": [
        {
          "output_type": "stream",
          "name": "stderr",
          "text": [
            "/usr/local/lib/python3.10/dist-packages/sklearn/linear_model/_logistic.py:458: ConvergenceWarning: lbfgs failed to converge (status=1):\n",
            "STOP: TOTAL NO. of ITERATIONS REACHED LIMIT.\n",
            "\n",
            "Increase the number of iterations (max_iter) or scale the data as shown in:\n",
            "    https://scikit-learn.org/stable/modules/preprocessing.html\n",
            "Please also refer to the documentation for alternative solver options:\n",
            "    https://scikit-learn.org/stable/modules/linear_model.html#logistic-regression\n",
            "  n_iter_i = _check_optimize_result(\n",
            "/usr/local/lib/python3.10/dist-packages/sklearn/linear_model/_logistic.py:458: ConvergenceWarning: lbfgs failed to converge (status=1):\n",
            "STOP: TOTAL NO. of ITERATIONS REACHED LIMIT.\n",
            "\n",
            "Increase the number of iterations (max_iter) or scale the data as shown in:\n",
            "    https://scikit-learn.org/stable/modules/preprocessing.html\n",
            "Please also refer to the documentation for alternative solver options:\n",
            "    https://scikit-learn.org/stable/modules/linear_model.html#logistic-regression\n",
            "  n_iter_i = _check_optimize_result(\n"
          ]
        },
        {
          "output_type": "stream",
          "name": "stdout",
          "text": [
            "Logistic Regression Accuracy: 0.9433333333333334\n",
            "Best Parameters: {'C': 100}\n",
            "              precision    recall  f1-score   support\n",
            "\n",
            "           0       0.95      0.99      0.97       494\n",
            "           1       0.93      0.74      0.82       106\n",
            "\n",
            "    accuracy                           0.94       600\n",
            "   macro avg       0.94      0.86      0.89       600\n",
            "weighted avg       0.94      0.94      0.94       600\n",
            "\n"
          ]
        },
        {
          "output_type": "stream",
          "name": "stderr",
          "text": [
            "/usr/local/lib/python3.10/dist-packages/sklearn/linear_model/_logistic.py:458: ConvergenceWarning: lbfgs failed to converge (status=1):\n",
            "STOP: TOTAL NO. of ITERATIONS REACHED LIMIT.\n",
            "\n",
            "Increase the number of iterations (max_iter) or scale the data as shown in:\n",
            "    https://scikit-learn.org/stable/modules/preprocessing.html\n",
            "Please also refer to the documentation for alternative solver options:\n",
            "    https://scikit-learn.org/stable/modules/linear_model.html#logistic-regression\n",
            "  n_iter_i = _check_optimize_result(\n"
          ]
        }
      ]
    },
    {
      "cell_type": "markdown",
      "source": [
        "Support Vector Machine:\n",
        "\n"
      ],
      "metadata": {
        "id": "pmRb93R0JVX3"
      }
    },
    {
      "cell_type": "code",
      "source": [
        "# Define the model and hyperparameters\n",
        "svm_model = SVC()\n",
        "svm_params = {'C': [0.1, 1, 10], 'gamma': [1, 0.1, 0.01], 'kernel': ['rbf', 'linear']}\n",
        "\n",
        "# Perform grid search\n",
        "svm_grid = GridSearchCV(svm_model, svm_params, cv=5, scoring='accuracy')\n",
        "svm_grid.fit(X_train_vec, y_train)\n",
        "\n",
        "# Make predictions\n",
        "svm_predictions = svm_grid.predict(X_test_vec)\n",
        "\n",
        "# Evaluate the model\n",
        "svm_accuracy = accuracy_score(y_test, svm_predictions)\n",
        "print('Support Vector Machine Accuracy:', svm_accuracy)\n",
        "print('Best Parameters:', svm_grid.best_params_)\n",
        "print(classification_report(y_test, svm_predictions))\n"
      ],
      "metadata": {
        "colab": {
          "base_uri": "https://localhost:8080/"
        },
        "id": "biW92RFNJaD5",
        "outputId": "ed20bb31-57d4-4238-bb58-61ac7155810a"
      },
      "execution_count": null,
      "outputs": [
        {
          "output_type": "stream",
          "name": "stdout",
          "text": [
            "Support Vector Machine Accuracy: 0.945\n",
            "Best Parameters: {'C': 10, 'gamma': 1, 'kernel': 'linear'}\n",
            "              precision    recall  f1-score   support\n",
            "\n",
            "           0       0.95      0.99      0.97       494\n",
            "           1       0.92      0.75      0.83       106\n",
            "\n",
            "    accuracy                           0.94       600\n",
            "   macro avg       0.93      0.87      0.90       600\n",
            "weighted avg       0.94      0.94      0.94       600\n",
            "\n"
          ]
        }
      ]
    },
    {
      "cell_type": "markdown",
      "source": [
        "Random Forest:\n",
        "\n"
      ],
      "metadata": {
        "id": "h6sgQ8O8Jt11"
      }
    },
    {
      "cell_type": "code",
      "source": [
        "# Define the model and hyperparameters\n",
        "rf_model = RandomForestClassifier()\n",
        "rf_params = {'n_estimators': [50, 100, 200], 'max_depth': [None, 10, 20, 30]}\n",
        "\n",
        "# Perform grid search\n",
        "rf_grid = GridSearchCV(rf_model, rf_params, cv=5, scoring='accuracy')\n",
        "rf_grid.fit(X_train_vec, y_train)\n",
        "\n",
        "# Make predictions\n",
        "rf_predictions = rf_grid.predict(X_test_vec)\n",
        "\n",
        "# Evaluate the model\n",
        "rf_accuracy = accuracy_score(y_test, rf_predictions)\n",
        "print('Random Forest Accuracy:', rf_accuracy)\n",
        "print('Best Parameters:', rf_grid.best_params_)\n",
        "print(classification_report(y_test, rf_predictions))\n"
      ],
      "metadata": {
        "colab": {
          "base_uri": "https://localhost:8080/"
        },
        "id": "heUoFwpiJzM4",
        "outputId": "649b6b0f-a7fd-4876-e1f0-8b5c897a40a5"
      },
      "execution_count": null,
      "outputs": [
        {
          "output_type": "stream",
          "name": "stdout",
          "text": [
            "Random Forest Accuracy: 0.9366666666666666\n",
            "Best Parameters: {'max_depth': None, 'n_estimators': 200}\n",
            "              precision    recall  f1-score   support\n",
            "\n",
            "           0       0.94      0.99      0.96       494\n",
            "           1       0.94      0.69      0.79       106\n",
            "\n",
            "    accuracy                           0.94       600\n",
            "   macro avg       0.94      0.84      0.88       600\n",
            "weighted avg       0.94      0.94      0.93       600\n",
            "\n"
          ]
        }
      ]
    },
    {
      "cell_type": "markdown",
      "source": [
        "Summary of Model Performance:"
      ],
      "metadata": {
        "id": "sqGIdqUkKONl"
      }
    },
    {
      "cell_type": "code",
      "source": [
        "print('Model Performance Summary:')\n",
        "print(f'Logistic Regression Accuracy: {lr_accuracy}')\n",
        "print(f'Support Vector Machine Accuracy: {svm_accuracy}')\n",
        "print(f'Random Forest Accuracy: {rf_accuracy}')\n"
      ],
      "metadata": {
        "colab": {
          "base_uri": "https://localhost:8080/"
        },
        "id": "3lElIKk_KPSd",
        "outputId": "f8667f80-a25d-435a-e58d-3947c8e41e5d"
      },
      "execution_count": null,
      "outputs": [
        {
          "output_type": "stream",
          "name": "stdout",
          "text": [
            "Model Performance Summary:\n",
            "Logistic Regression Accuracy: 0.9466666666666667\n",
            "Support Vector Machine Accuracy: 0.945\n",
            "Random Forest Accuracy: 0.9366666666666666\n"
          ]
        }
      ]
    }
  ]
}